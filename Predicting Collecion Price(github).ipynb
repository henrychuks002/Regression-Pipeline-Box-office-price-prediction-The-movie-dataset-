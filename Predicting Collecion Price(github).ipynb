{
 "cells": [
  {
   "cell_type": "code",
   "execution_count": 1,
   "metadata": {},
   "outputs": [],
   "source": [
    "import numpy as np\n",
    "import pandas as pd\n",
    "import seaborn as sns\n",
    "from sklearn.metrics import accuracy_score, mean_squared_error, mean_absolute_error\n",
    "import math\n",
    "import xgboost as xgb\n",
    "from sklearn import preprocessing\n",
    "from sklearn.ensemble import AdaBoostRegressor\n",
    "import matplotlib.pyplot as plt\n",
    "from sklearn.preprocessing import StandardScaler\n",
    "import warnings\n",
    "warnings.filterwarnings(\"ignore\", category=FutureWarning)\n",
    "warnings.filterwarnings(\"ignore\")\n",
    "from sklearn.linear_model import Ridge, Lasso, Lars, ElasticNet\n",
    "from sklearn.model_selection import validation_curve, train_test_split\n",
    "from sklearn.linear_model import LinearRegression\n",
    "from sklearn.linear_model import LarsCV\n",
    "from sklearn.model_selection import RepeatedKFold\n",
    "from sklearn.metrics import r2_score\n",
    "from sklearn.svm import LinearSVR\n",
    "import statsmodels.api as sn\n",
    "from sklearn.preprocessing import LabelEncoder\n",
    "from sklearn.ensemble import GradientBoostingRegressor\n",
    "\n",
    "%matplotlib inline"
   ]
  },
  {
   "cell_type": "code",
   "execution_count": 2,
   "metadata": {},
   "outputs": [],
   "source": [
    "df = pd.read_csv(\"Movie_collection_train.csv\")"
   ]
  },
  {
   "cell_type": "code",
   "execution_count": 3,
   "metadata": {},
   "outputs": [
    {
     "data": {
      "text/html": [
       "<div>\n",
       "<style scoped>\n",
       "    .dataframe tbody tr th:only-of-type {\n",
       "        vertical-align: middle;\n",
       "    }\n",
       "\n",
       "    .dataframe tbody tr th {\n",
       "        vertical-align: top;\n",
       "    }\n",
       "\n",
       "    .dataframe thead th {\n",
       "        text-align: right;\n",
       "    }\n",
       "</style>\n",
       "<table border=\"1\" class=\"dataframe\">\n",
       "  <thead>\n",
       "    <tr style=\"text-align: right;\">\n",
       "      <th></th>\n",
       "      <th>Collection</th>\n",
       "      <th>Marketin_expense</th>\n",
       "      <th>Production_expense</th>\n",
       "      <th>Multiplex_coverage</th>\n",
       "      <th>Budget</th>\n",
       "      <th>Movie_length</th>\n",
       "      <th>Lead_ Actor_Rating</th>\n",
       "      <th>Lead_Actress_rating</th>\n",
       "      <th>Director_rating</th>\n",
       "      <th>Producer_rating</th>\n",
       "      <th>Critic_rating</th>\n",
       "      <th>Trailer_views</th>\n",
       "      <th>Time_taken</th>\n",
       "      <th>Twitter_hastags</th>\n",
       "      <th>Genre</th>\n",
       "      <th>Avg_age_actors</th>\n",
       "      <th>MPAA_film_rating</th>\n",
       "      <th>Num_multiplex</th>\n",
       "      <th>3D_available</th>\n",
       "    </tr>\n",
       "  </thead>\n",
       "  <tbody>\n",
       "    <tr>\n",
       "      <th>0</th>\n",
       "      <td>48000</td>\n",
       "      <td>20.1264</td>\n",
       "      <td>59.62</td>\n",
       "      <td>0.462</td>\n",
       "      <td>36524.125</td>\n",
       "      <td>138.7</td>\n",
       "      <td>7.825</td>\n",
       "      <td>8.095</td>\n",
       "      <td>7.910</td>\n",
       "      <td>7.995</td>\n",
       "      <td>7.94</td>\n",
       "      <td>527367</td>\n",
       "      <td>109.60</td>\n",
       "      <td>223.840</td>\n",
       "      <td>Thriller</td>\n",
       "      <td>23</td>\n",
       "      <td>PG</td>\n",
       "      <td>494</td>\n",
       "      <td>YES</td>\n",
       "    </tr>\n",
       "    <tr>\n",
       "      <th>1</th>\n",
       "      <td>43200</td>\n",
       "      <td>20.5462</td>\n",
       "      <td>69.14</td>\n",
       "      <td>0.531</td>\n",
       "      <td>35668.655</td>\n",
       "      <td>152.4</td>\n",
       "      <td>7.505</td>\n",
       "      <td>7.650</td>\n",
       "      <td>7.440</td>\n",
       "      <td>7.470</td>\n",
       "      <td>7.44</td>\n",
       "      <td>494055</td>\n",
       "      <td>146.64</td>\n",
       "      <td>243.456</td>\n",
       "      <td>Drama</td>\n",
       "      <td>42</td>\n",
       "      <td>PG</td>\n",
       "      <td>462</td>\n",
       "      <td>NO</td>\n",
       "    </tr>\n",
       "    <tr>\n",
       "      <th>2</th>\n",
       "      <td>69400</td>\n",
       "      <td>20.5458</td>\n",
       "      <td>69.14</td>\n",
       "      <td>0.531</td>\n",
       "      <td>39912.675</td>\n",
       "      <td>134.6</td>\n",
       "      <td>7.485</td>\n",
       "      <td>7.570</td>\n",
       "      <td>7.495</td>\n",
       "      <td>7.515</td>\n",
       "      <td>7.44</td>\n",
       "      <td>547051</td>\n",
       "      <td>147.88</td>\n",
       "      <td>2022.400</td>\n",
       "      <td>Comedy</td>\n",
       "      <td>38</td>\n",
       "      <td>PG</td>\n",
       "      <td>458</td>\n",
       "      <td>NO</td>\n",
       "    </tr>\n",
       "    <tr>\n",
       "      <th>3</th>\n",
       "      <td>66800</td>\n",
       "      <td>20.6474</td>\n",
       "      <td>59.36</td>\n",
       "      <td>0.542</td>\n",
       "      <td>38873.890</td>\n",
       "      <td>119.3</td>\n",
       "      <td>6.895</td>\n",
       "      <td>7.035</td>\n",
       "      <td>6.920</td>\n",
       "      <td>7.020</td>\n",
       "      <td>8.26</td>\n",
       "      <td>516279</td>\n",
       "      <td>185.36</td>\n",
       "      <td>225.344</td>\n",
       "      <td>Drama</td>\n",
       "      <td>45</td>\n",
       "      <td>PG</td>\n",
       "      <td>472</td>\n",
       "      <td>YES</td>\n",
       "    </tr>\n",
       "    <tr>\n",
       "      <th>4</th>\n",
       "      <td>72400</td>\n",
       "      <td>21.3810</td>\n",
       "      <td>59.36</td>\n",
       "      <td>0.542</td>\n",
       "      <td>39701.585</td>\n",
       "      <td>127.7</td>\n",
       "      <td>6.920</td>\n",
       "      <td>7.070</td>\n",
       "      <td>6.815</td>\n",
       "      <td>7.070</td>\n",
       "      <td>8.26</td>\n",
       "      <td>531448</td>\n",
       "      <td>176.48</td>\n",
       "      <td>225.792</td>\n",
       "      <td>Drama</td>\n",
       "      <td>55</td>\n",
       "      <td>PG</td>\n",
       "      <td>395</td>\n",
       "      <td>NO</td>\n",
       "    </tr>\n",
       "  </tbody>\n",
       "</table>\n",
       "</div>"
      ],
      "text/plain": [
       "   Collection  Marketin_expense  Production_expense  Multiplex_coverage  \\\n",
       "0       48000           20.1264               59.62               0.462   \n",
       "1       43200           20.5462               69.14               0.531   \n",
       "2       69400           20.5458               69.14               0.531   \n",
       "3       66800           20.6474               59.36               0.542   \n",
       "4       72400           21.3810               59.36               0.542   \n",
       "\n",
       "      Budget  Movie_length  Lead_ Actor_Rating  Lead_Actress_rating  \\\n",
       "0  36524.125         138.7               7.825                8.095   \n",
       "1  35668.655         152.4               7.505                7.650   \n",
       "2  39912.675         134.6               7.485                7.570   \n",
       "3  38873.890         119.3               6.895                7.035   \n",
       "4  39701.585         127.7               6.920                7.070   \n",
       "\n",
       "   Director_rating  Producer_rating  Critic_rating  Trailer_views  Time_taken  \\\n",
       "0            7.910            7.995           7.94         527367      109.60   \n",
       "1            7.440            7.470           7.44         494055      146.64   \n",
       "2            7.495            7.515           7.44         547051      147.88   \n",
       "3            6.920            7.020           8.26         516279      185.36   \n",
       "4            6.815            7.070           8.26         531448      176.48   \n",
       "\n",
       "   Twitter_hastags     Genre  Avg_age_actors MPAA_film_rating  Num_multiplex  \\\n",
       "0          223.840  Thriller              23               PG            494   \n",
       "1          243.456     Drama              42               PG            462   \n",
       "2         2022.400    Comedy              38               PG            458   \n",
       "3          225.344     Drama              45               PG            472   \n",
       "4          225.792     Drama              55               PG            395   \n",
       "\n",
       "  3D_available  \n",
       "0          YES  \n",
       "1           NO  \n",
       "2           NO  \n",
       "3          YES  \n",
       "4           NO  "
      ]
     },
     "execution_count": 3,
     "metadata": {},
     "output_type": "execute_result"
    }
   ],
   "source": [
    "df.head()"
   ]
  },
  {
   "cell_type": "code",
   "execution_count": 4,
   "metadata": {},
   "outputs": [
    {
     "data": {
      "text/plain": [
       "(400, 19)"
      ]
     },
     "execution_count": 4,
     "metadata": {},
     "output_type": "execute_result"
    }
   ],
   "source": [
    "df.shape"
   ]
  },
  {
   "cell_type": "code",
   "execution_count": 5,
   "metadata": {},
   "outputs": [
    {
     "name": "stdout",
     "output_type": "stream",
     "text": [
      "<class 'pandas.core.frame.DataFrame'>\n",
      "RangeIndex: 400 entries, 0 to 399\n",
      "Data columns (total 19 columns):\n",
      " #   Column               Non-Null Count  Dtype  \n",
      "---  ------               --------------  -----  \n",
      " 0   Collection           400 non-null    int64  \n",
      " 1   Marketin_expense     400 non-null    float64\n",
      " 2   Production_expense   400 non-null    float64\n",
      " 3   Multiplex_coverage   400 non-null    float64\n",
      " 4   Budget               400 non-null    float64\n",
      " 5   Movie_length         400 non-null    float64\n",
      " 6   Lead_ Actor_Rating   400 non-null    float64\n",
      " 7   Lead_Actress_rating  400 non-null    float64\n",
      " 8   Director_rating      400 non-null    float64\n",
      " 9   Producer_rating      400 non-null    float64\n",
      " 10  Critic_rating        400 non-null    float64\n",
      " 11  Trailer_views        400 non-null    int64  \n",
      " 12  Time_taken           392 non-null    float64\n",
      " 13  Twitter_hastags      400 non-null    float64\n",
      " 14  Genre                400 non-null    object \n",
      " 15  Avg_age_actors       400 non-null    int64  \n",
      " 16  MPAA_film_rating     400 non-null    object \n",
      " 17  Num_multiplex        400 non-null    int64  \n",
      " 18  3D_available         400 non-null    object \n",
      "dtypes: float64(12), int64(4), object(3)\n",
      "memory usage: 59.5+ KB\n"
     ]
    }
   ],
   "source": [
    "df.info()"
   ]
  },
  {
   "cell_type": "code",
   "execution_count": 6,
   "metadata": {},
   "outputs": [
    {
     "data": {
      "text/html": [
       "<div>\n",
       "<style scoped>\n",
       "    .dataframe tbody tr th:only-of-type {\n",
       "        vertical-align: middle;\n",
       "    }\n",
       "\n",
       "    .dataframe tbody tr th {\n",
       "        vertical-align: top;\n",
       "    }\n",
       "\n",
       "    .dataframe thead th {\n",
       "        text-align: right;\n",
       "    }\n",
       "</style>\n",
       "<table border=\"1\" class=\"dataframe\">\n",
       "  <thead>\n",
       "    <tr style=\"text-align: right;\">\n",
       "      <th></th>\n",
       "      <th>Collection</th>\n",
       "      <th>Marketin_expense</th>\n",
       "      <th>Production_expense</th>\n",
       "      <th>Multiplex_coverage</th>\n",
       "      <th>Budget</th>\n",
       "      <th>Movie_length</th>\n",
       "      <th>Lead_ Actor_Rating</th>\n",
       "      <th>Lead_Actress_rating</th>\n",
       "      <th>Director_rating</th>\n",
       "      <th>Producer_rating</th>\n",
       "      <th>Critic_rating</th>\n",
       "      <th>Trailer_views</th>\n",
       "      <th>Time_taken</th>\n",
       "      <th>Twitter_hastags</th>\n",
       "      <th>Avg_age_actors</th>\n",
       "      <th>Num_multiplex</th>\n",
       "    </tr>\n",
       "  </thead>\n",
       "  <tbody>\n",
       "    <tr>\n",
       "      <th>count</th>\n",
       "      <td>400.000000</td>\n",
       "      <td>400.000000</td>\n",
       "      <td>400.000000</td>\n",
       "      <td>400.000000</td>\n",
       "      <td>400.000000</td>\n",
       "      <td>400.000000</td>\n",
       "      <td>400.000000</td>\n",
       "      <td>400.000000</td>\n",
       "      <td>400.000000</td>\n",
       "      <td>400.000000</td>\n",
       "      <td>400.000000</td>\n",
       "      <td>400.000000</td>\n",
       "      <td>392.000000</td>\n",
       "      <td>400.000000</td>\n",
       "      <td>400.000000</td>\n",
       "      <td>400.000000</td>\n",
       "    </tr>\n",
       "    <tr>\n",
       "      <th>mean</th>\n",
       "      <td>48646.500000</td>\n",
       "      <td>55.017180</td>\n",
       "      <td>73.832700</td>\n",
       "      <td>0.469881</td>\n",
       "      <td>35197.771537</td>\n",
       "      <td>137.581750</td>\n",
       "      <td>7.810275</td>\n",
       "      <td>7.982812</td>\n",
       "      <td>7.813375</td>\n",
       "      <td>7.993887</td>\n",
       "      <td>7.894100</td>\n",
       "      <td>463223.567500</td>\n",
       "      <td>157.790000</td>\n",
       "      <td>258.083840</td>\n",
       "      <td>38.715000</td>\n",
       "      <td>523.650000</td>\n",
       "    </tr>\n",
       "    <tr>\n",
       "      <th>std</th>\n",
       "      <td>18308.499136</td>\n",
       "      <td>119.755634</td>\n",
       "      <td>13.023426</td>\n",
       "      <td>0.113920</td>\n",
       "      <td>4075.766926</td>\n",
       "      <td>28.990673</td>\n",
       "      <td>1.088694</td>\n",
       "      <td>1.089923</td>\n",
       "      <td>1.093581</td>\n",
       "      <td>1.088619</td>\n",
       "      <td>0.672413</td>\n",
       "      <td>65225.567649</td>\n",
       "      <td>31.723517</td>\n",
       "      <td>94.621476</td>\n",
       "      <td>12.651043</td>\n",
       "      <td>103.661283</td>\n",
       "    </tr>\n",
       "    <tr>\n",
       "      <th>min</th>\n",
       "      <td>10000.000000</td>\n",
       "      <td>20.126400</td>\n",
       "      <td>55.920000</td>\n",
       "      <td>0.129000</td>\n",
       "      <td>19781.355000</td>\n",
       "      <td>76.400000</td>\n",
       "      <td>3.840000</td>\n",
       "      <td>4.035000</td>\n",
       "      <td>3.840000</td>\n",
       "      <td>4.030000</td>\n",
       "      <td>6.600000</td>\n",
       "      <td>215432.000000</td>\n",
       "      <td>0.000000</td>\n",
       "      <td>201.632000</td>\n",
       "      <td>3.000000</td>\n",
       "      <td>333.000000</td>\n",
       "    </tr>\n",
       "    <tr>\n",
       "      <th>25%</th>\n",
       "      <td>37800.000000</td>\n",
       "      <td>21.321950</td>\n",
       "      <td>63.250000</td>\n",
       "      <td>0.419000</td>\n",
       "      <td>32721.727500</td>\n",
       "      <td>111.175000</td>\n",
       "      <td>7.092500</td>\n",
       "      <td>7.252500</td>\n",
       "      <td>7.123750</td>\n",
       "      <td>7.273750</td>\n",
       "      <td>7.320000</td>\n",
       "      <td>436793.500000</td>\n",
       "      <td>133.360000</td>\n",
       "      <td>223.804000</td>\n",
       "      <td>26.000000</td>\n",
       "      <td>451.000000</td>\n",
       "    </tr>\n",
       "    <tr>\n",
       "      <th>50%</th>\n",
       "      <td>45000.000000</td>\n",
       "      <td>23.214700</td>\n",
       "      <td>69.030000</td>\n",
       "      <td>0.494500</td>\n",
       "      <td>34593.762500</td>\n",
       "      <td>142.250000</td>\n",
       "      <td>7.995000</td>\n",
       "      <td>8.157500</td>\n",
       "      <td>7.990000</td>\n",
       "      <td>8.140000</td>\n",
       "      <td>7.960000</td>\n",
       "      <td>474930.000000</td>\n",
       "      <td>159.720000</td>\n",
       "      <td>246.680000</td>\n",
       "      <td>39.000000</td>\n",
       "      <td>510.000000</td>\n",
       "    </tr>\n",
       "    <tr>\n",
       "      <th>75%</th>\n",
       "      <td>56500.000000</td>\n",
       "      <td>34.638300</td>\n",
       "      <td>82.840000</td>\n",
       "      <td>0.558000</td>\n",
       "      <td>37142.118750</td>\n",
       "      <td>165.400000</td>\n",
       "      <td>8.725000</td>\n",
       "      <td>8.912500</td>\n",
       "      <td>8.740000</td>\n",
       "      <td>8.931250</td>\n",
       "      <td>8.400000</td>\n",
       "      <td>507690.500000</td>\n",
       "      <td>183.210000</td>\n",
       "      <td>283.444000</td>\n",
       "      <td>50.000000</td>\n",
       "      <td>571.000000</td>\n",
       "    </tr>\n",
       "    <tr>\n",
       "      <th>max</th>\n",
       "      <td>100000.000000</td>\n",
       "      <td>1799.524000</td>\n",
       "      <td>106.300000</td>\n",
       "      <td>0.615000</td>\n",
       "      <td>48772.900000</td>\n",
       "      <td>173.500000</td>\n",
       "      <td>9.435000</td>\n",
       "      <td>9.540000</td>\n",
       "      <td>9.425000</td>\n",
       "      <td>9.635000</td>\n",
       "      <td>9.400000</td>\n",
       "      <td>567784.000000</td>\n",
       "      <td>217.520000</td>\n",
       "      <td>2022.400000</td>\n",
       "      <td>60.000000</td>\n",
       "      <td>868.000000</td>\n",
       "    </tr>\n",
       "  </tbody>\n",
       "</table>\n",
       "</div>"
      ],
      "text/plain": [
       "          Collection  Marketin_expense  Production_expense  \\\n",
       "count     400.000000        400.000000          400.000000   \n",
       "mean    48646.500000         55.017180           73.832700   \n",
       "std     18308.499136        119.755634           13.023426   \n",
       "min     10000.000000         20.126400           55.920000   \n",
       "25%     37800.000000         21.321950           63.250000   \n",
       "50%     45000.000000         23.214700           69.030000   \n",
       "75%     56500.000000         34.638300           82.840000   \n",
       "max    100000.000000       1799.524000          106.300000   \n",
       "\n",
       "       Multiplex_coverage        Budget  Movie_length  Lead_ Actor_Rating  \\\n",
       "count          400.000000    400.000000    400.000000          400.000000   \n",
       "mean             0.469881  35197.771537    137.581750            7.810275   \n",
       "std              0.113920   4075.766926     28.990673            1.088694   \n",
       "min              0.129000  19781.355000     76.400000            3.840000   \n",
       "25%              0.419000  32721.727500    111.175000            7.092500   \n",
       "50%              0.494500  34593.762500    142.250000            7.995000   \n",
       "75%              0.558000  37142.118750    165.400000            8.725000   \n",
       "max              0.615000  48772.900000    173.500000            9.435000   \n",
       "\n",
       "       Lead_Actress_rating  Director_rating  Producer_rating  Critic_rating  \\\n",
       "count           400.000000       400.000000       400.000000     400.000000   \n",
       "mean              7.982812         7.813375         7.993887       7.894100   \n",
       "std               1.089923         1.093581         1.088619       0.672413   \n",
       "min               4.035000         3.840000         4.030000       6.600000   \n",
       "25%               7.252500         7.123750         7.273750       7.320000   \n",
       "50%               8.157500         7.990000         8.140000       7.960000   \n",
       "75%               8.912500         8.740000         8.931250       8.400000   \n",
       "max               9.540000         9.425000         9.635000       9.400000   \n",
       "\n",
       "       Trailer_views  Time_taken  Twitter_hastags  Avg_age_actors  \\\n",
       "count     400.000000  392.000000       400.000000      400.000000   \n",
       "mean   463223.567500  157.790000       258.083840       38.715000   \n",
       "std     65225.567649   31.723517        94.621476       12.651043   \n",
       "min    215432.000000    0.000000       201.632000        3.000000   \n",
       "25%    436793.500000  133.360000       223.804000       26.000000   \n",
       "50%    474930.000000  159.720000       246.680000       39.000000   \n",
       "75%    507690.500000  183.210000       283.444000       50.000000   \n",
       "max    567784.000000  217.520000      2022.400000       60.000000   \n",
       "\n",
       "       Num_multiplex  \n",
       "count     400.000000  \n",
       "mean      523.650000  \n",
       "std       103.661283  \n",
       "min       333.000000  \n",
       "25%       451.000000  \n",
       "50%       510.000000  \n",
       "75%       571.000000  \n",
       "max       868.000000  "
      ]
     },
     "execution_count": 6,
     "metadata": {},
     "output_type": "execute_result"
    }
   ],
   "source": [
    "df.describe()"
   ]
  },
  {
   "cell_type": "code",
   "execution_count": 7,
   "metadata": {},
   "outputs": [
    {
     "data": {
      "text/plain": [
       "array([[<matplotlib.axes._subplots.AxesSubplot object at 0x7f01f90296d0>]],\n",
       "      dtype=object)"
      ]
     },
     "execution_count": 7,
     "metadata": {},
     "output_type": "execute_result"
    },
    {
     "data": {
      "image/png": "[encoded data removed]",
      "text/plain": [
       "<Figure size 432x288 with 1 Axes>"
      ]
     },
     "metadata": {
      "needs_background": "light"
     },
     "output_type": "display_data"
    },
    {
     "data": {
      "image/png": "[encoded data removed]",
      "text/plain": [
       "<Figure size 432x288 with 1 Axes>"
      ]
     },
     "metadata": {
      "needs_background": "light"
     },
     "output_type": "display_data"
    }
   ],
   "source": [
    "sns.boxplot(y='Marketin_expense', data=df)\n",
    "df.hist(column='Marketin_expense')"
   ]
  },
  {
   "cell_type": "code",
   "execution_count": 8,
   "metadata": {},
   "outputs": [
    {
     "data": {
      "text/plain": [
       "array([[<matplotlib.axes._subplots.AxesSubplot object at 0x7f01f8ee6650>]],\n",
       "      dtype=object)"
      ]
     },
     "execution_count": 8,
     "metadata": {},
     "output_type": "execute_result"
    },
    {
     "data": {
      "image/png": "[encoded data removed]",
      "text/plain": [
       "<Figure size 432x288 with 1 Axes>"
      ]
     },
     "metadata": {
      "needs_background": "light"
     },
     "output_type": "display_data"
    },
    {
     "data": {
      "image/png": "[encoded data removed]",
      "text/plain": [
       "<Figure size 432x288 with 1 Axes>"
      ]
     },
     "metadata": {
      "needs_background": "light"
     },
     "output_type": "display_data"
    }
   ],
   "source": [
    "sns.boxplot(y='Twitter_hastags', data=df)\n",
    "df.hist(column='Twitter_hastags')"
   ]
  },
  {
   "cell_type": "code",
   "execution_count": 9,
   "metadata": {},
   "outputs": [
    {
     "name": "stdout",
     "output_type": "stream",
     "text": [
      "308.0\n"
     ]
    },
    {
     "data": {
      "text/plain": [
       "count     400.000000\n",
       "mean      258.083840\n",
       "std        94.621476\n",
       "min       201.632000\n",
       "25%       223.804000\n",
       "50%       246.680000\n",
       "75%       283.444000\n",
       "max      2022.400000\n",
       "Name: Twitter_hastags, dtype: float64"
      ]
     },
     "execution_count": 9,
     "metadata": {},
     "output_type": "execute_result"
    }
   ],
   "source": [
    "print(np.percentile(df.Twitter_hastags,[99])[0])\n",
    "twitter_df = df[df['Twitter_hastags']>np.percentile(df.Twitter_hastags,[99])[0]]\n",
    "df['Twitter_hastags'].describe()"
   ]
  },
  {
   "cell_type": "code",
   "execution_count": 10,
   "metadata": {},
   "outputs": [
    {
     "data": {
      "text/plain": [
       "array([[<matplotlib.axes._subplots.AxesSubplot object at 0x7f01f0e58650>]],\n",
       "      dtype=object)"
      ]
     },
     "execution_count": 10,
     "metadata": {},
     "output_type": "execute_result"
    },
    {
     "data": {
      "image/png": "[encoded data removed]",
      "text/plain": [
       "<Figure size 432x288 with 1 Axes>"
      ]
     },
     "metadata": {
      "needs_background": "light"
     },
     "output_type": "display_data"
    },
    {
     "data": {
      "image/png": "[encoded data removed]",
      "text/plain": [
       "<Figure size 432x288 with 1 Axes>"
      ]
     },
     "metadata": {
      "needs_background": "light"
     },
     "output_type": "display_data"
    }
   ],
   "source": [
    "sns.boxplot(y='Num_multiplex', data=df)\n",
    "df.hist(column='Num_multiplex')"
   ]
  },
  {
   "cell_type": "code",
   "execution_count": 11,
   "metadata": {},
   "outputs": [
    {
     "data": {
      "text/plain": [
       "<matplotlib.axes._subplots.AxesSubplot at 0x7f01f0dec550>"
      ]
     },
     "execution_count": 11,
     "metadata": {},
     "output_type": "execute_result"
    },
    {
     "data": {
      "image/png": "[encoded data removed]",
      "text/plain": [
       "<Figure size 432x288 with 1 Axes>"
      ]
     },
     "metadata": {
      "needs_background": "light"
     },
     "output_type": "display_data"
    }
   ],
   "source": [
    "sns.distplot(df['Num_multiplex'])"
   ]
  },
  {
   "cell_type": "markdown",
   "metadata": {},
   "source": [
    "**OBSERVATIONS**\n",
    "\n",
    "Marketin_expense contains outlier\n",
    "\n",
    "Twitter_hashtags either negatiely skewed or contains outlier"
   ]
  },
  {
   "cell_type": "code",
   "execution_count": 12,
   "metadata": {},
   "outputs": [
    {
     "data": {
      "text/plain": [
       "<matplotlib.axes._subplots.AxesSubplot at 0x7f01f0d218d0>"
      ]
     },
     "execution_count": 12,
     "metadata": {},
     "output_type": "execute_result"
    },
    {
     "data": {
      "image/png": "[encoded data removed]",
      "text/plain": [
       "<Figure size 432x288 with 1 Axes>"
      ]
     },
     "metadata": {
      "needs_background": "light"
     },
     "output_type": "display_data"
    }
   ],
   "source": [
    "sns.distplot(df['Twitter_hastags']) #checking the skewness of twitter hashtags"
   ]
  },
  {
   "cell_type": "code",
   "execution_count": 13,
   "metadata": {},
   "outputs": [],
   "source": [
    "#deleting detected outliers\n",
    "new_df = df[df['Marketin_expense']<np.percentile(df.Marketin_expense,[92])[0]]"
   ]
  },
  {
   "cell_type": "code",
   "execution_count": 14,
   "metadata": {},
   "outputs": [],
   "source": [
    "new_df = new_df[new_df['Twitter_hastags']<500]"
   ]
  },
  {
   "cell_type": "code",
   "execution_count": 15,
   "metadata": {},
   "outputs": [
    {
     "data": {
      "text/html": [
       "<div>\n",
       "<style scoped>\n",
       "    .dataframe tbody tr th:only-of-type {\n",
       "        vertical-align: middle;\n",
       "    }\n",
       "\n",
       "    .dataframe tbody tr th {\n",
       "        vertical-align: top;\n",
       "    }\n",
       "\n",
       "    .dataframe thead th {\n",
       "        text-align: right;\n",
       "    }\n",
       "</style>\n",
       "<table border=\"1\" class=\"dataframe\">\n",
       "  <thead>\n",
       "    <tr style=\"text-align: right;\">\n",
       "      <th></th>\n",
       "      <th>Collection</th>\n",
       "      <th>Marketin_expense</th>\n",
       "      <th>Production_expense</th>\n",
       "      <th>Multiplex_coverage</th>\n",
       "      <th>Budget</th>\n",
       "      <th>Movie_length</th>\n",
       "      <th>Lead_ Actor_Rating</th>\n",
       "      <th>Lead_Actress_rating</th>\n",
       "      <th>Director_rating</th>\n",
       "      <th>Producer_rating</th>\n",
       "      <th>Critic_rating</th>\n",
       "      <th>Trailer_views</th>\n",
       "      <th>Time_taken</th>\n",
       "      <th>Twitter_hastags</th>\n",
       "      <th>Avg_age_actors</th>\n",
       "      <th>Num_multiplex</th>\n",
       "    </tr>\n",
       "  </thead>\n",
       "  <tbody>\n",
       "    <tr>\n",
       "      <th>count</th>\n",
       "      <td>367.000000</td>\n",
       "      <td>367.000000</td>\n",
       "      <td>367.000000</td>\n",
       "      <td>367.000000</td>\n",
       "      <td>367.000000</td>\n",
       "      <td>367.000000</td>\n",
       "      <td>367.000000</td>\n",
       "      <td>367.000000</td>\n",
       "      <td>367.000000</td>\n",
       "      <td>367.000000</td>\n",
       "      <td>367.000000</td>\n",
       "      <td>367.000000</td>\n",
       "      <td>359.000000</td>\n",
       "      <td>367.000000</td>\n",
       "      <td>367.000000</td>\n",
       "      <td>367.000000</td>\n",
       "    </tr>\n",
       "    <tr>\n",
       "      <th>mean</th>\n",
       "      <td>49936.784741</td>\n",
       "      <td>30.505949</td>\n",
       "      <td>72.331172</td>\n",
       "      <td>0.483017</td>\n",
       "      <td>35451.298597</td>\n",
       "      <td>134.760490</td>\n",
       "      <td>7.693910</td>\n",
       "      <td>7.866158</td>\n",
       "      <td>7.696512</td>\n",
       "      <td>7.877711</td>\n",
       "      <td>7.930463</td>\n",
       "      <td>471371.275204</td>\n",
       "      <td>157.764123</td>\n",
       "      <td>252.550801</td>\n",
       "      <td>38.727520</td>\n",
       "      <td>512.975477</td>\n",
       "    </tr>\n",
       "    <tr>\n",
       "      <th>std</th>\n",
       "      <td>16794.421840</td>\n",
       "      <td>18.839569</td>\n",
       "      <td>12.498398</td>\n",
       "      <td>0.108925</td>\n",
       "      <td>3897.213073</td>\n",
       "      <td>28.536014</td>\n",
       "      <td>1.057784</td>\n",
       "      <td>1.058376</td>\n",
       "      <td>1.062361</td>\n",
       "      <td>1.057139</td>\n",
       "      <td>0.674578</td>\n",
       "      <td>56646.227314</td>\n",
       "      <td>31.676055</td>\n",
       "      <td>33.627903</td>\n",
       "      <td>12.639252</td>\n",
       "      <td>100.102499</td>\n",
       "    </tr>\n",
       "    <tr>\n",
       "      <th>min</th>\n",
       "      <td>23600.000000</td>\n",
       "      <td>20.126400</td>\n",
       "      <td>55.920000</td>\n",
       "      <td>0.129000</td>\n",
       "      <td>19781.355000</td>\n",
       "      <td>76.400000</td>\n",
       "      <td>3.840000</td>\n",
       "      <td>4.035000</td>\n",
       "      <td>3.840000</td>\n",
       "      <td>4.030000</td>\n",
       "      <td>6.600000</td>\n",
       "      <td>233100.000000</td>\n",
       "      <td>0.000000</td>\n",
       "      <td>202.096000</td>\n",
       "      <td>3.000000</td>\n",
       "      <td>333.000000</td>\n",
       "    </tr>\n",
       "    <tr>\n",
       "      <th>25%</th>\n",
       "      <td>39000.000000</td>\n",
       "      <td>21.225600</td>\n",
       "      <td>62.970000</td>\n",
       "      <td>0.456000</td>\n",
       "      <td>32963.370000</td>\n",
       "      <td>109.500000</td>\n",
       "      <td>6.980000</td>\n",
       "      <td>7.145000</td>\n",
       "      <td>7.007500</td>\n",
       "      <td>7.167500</td>\n",
       "      <td>7.330000</td>\n",
       "      <td>445099.000000</td>\n",
       "      <td>133.320000</td>\n",
       "      <td>223.768000</td>\n",
       "      <td>27.000000</td>\n",
       "      <td>445.000000</td>\n",
       "    </tr>\n",
       "    <tr>\n",
       "      <th>50%</th>\n",
       "      <td>45600.000000</td>\n",
       "      <td>22.782800</td>\n",
       "      <td>67.820000</td>\n",
       "      <td>0.507000</td>\n",
       "      <td>34713.195000</td>\n",
       "      <td>136.500000</td>\n",
       "      <td>7.890000</td>\n",
       "      <td>8.040000</td>\n",
       "      <td>7.870000</td>\n",
       "      <td>8.055000</td>\n",
       "      <td>7.960000</td>\n",
       "      <td>480435.000000</td>\n",
       "      <td>159.840000</td>\n",
       "      <td>244.816000</td>\n",
       "      <td>39.000000</td>\n",
       "      <td>501.000000</td>\n",
       "    </tr>\n",
       "    <tr>\n",
       "      <th>75%</th>\n",
       "      <td>57100.000000</td>\n",
       "      <td>30.048100</td>\n",
       "      <td>76.180000</td>\n",
       "      <td>0.563000</td>\n",
       "      <td>37340.710000</td>\n",
       "      <td>162.050000</td>\n",
       "      <td>8.575000</td>\n",
       "      <td>8.735000</td>\n",
       "      <td>8.570000</td>\n",
       "      <td>8.750000</td>\n",
       "      <td>8.420000</td>\n",
       "      <td>510321.500000</td>\n",
       "      <td>182.400000</td>\n",
       "      <td>283.432000</td>\n",
       "      <td>50.000000</td>\n",
       "      <td>559.000000</td>\n",
       "    </tr>\n",
       "    <tr>\n",
       "      <th>max</th>\n",
       "      <td>100000.000000</td>\n",
       "      <td>125.861000</td>\n",
       "      <td>106.300000</td>\n",
       "      <td>0.615000</td>\n",
       "      <td>48772.900000</td>\n",
       "      <td>173.500000</td>\n",
       "      <td>9.330000</td>\n",
       "      <td>9.480000</td>\n",
       "      <td>9.240000</td>\n",
       "      <td>9.495000</td>\n",
       "      <td>9.400000</td>\n",
       "      <td>567784.000000</td>\n",
       "      <td>217.520000</td>\n",
       "      <td>308.000000</td>\n",
       "      <td>60.000000</td>\n",
       "      <td>868.000000</td>\n",
       "    </tr>\n",
       "  </tbody>\n",
       "</table>\n",
       "</div>"
      ],
      "text/plain": [
       "          Collection  Marketin_expense  Production_expense  \\\n",
       "count     367.000000        367.000000          367.000000   \n",
       "mean    49936.784741         30.505949           72.331172   \n",
       "std     16794.421840         18.839569           12.498398   \n",
       "min     23600.000000         20.126400           55.920000   \n",
       "25%     39000.000000         21.225600           62.970000   \n",
       "50%     45600.000000         22.782800           67.820000   \n",
       "75%     57100.000000         30.048100           76.180000   \n",
       "max    100000.000000        125.861000          106.300000   \n",
       "\n",
       "       Multiplex_coverage        Budget  Movie_length  Lead_ Actor_Rating  \\\n",
       "count          367.000000    367.000000    367.000000          367.000000   \n",
       "mean             0.483017  35451.298597    134.760490            7.693910   \n",
       "std              0.108925   3897.213073     28.536014            1.057784   \n",
       "min              0.129000  19781.355000     76.400000            3.840000   \n",
       "25%              0.456000  32963.370000    109.500000            6.980000   \n",
       "50%              0.507000  34713.195000    136.500000            7.890000   \n",
       "75%              0.563000  37340.710000    162.050000            8.575000   \n",
       "max              0.615000  48772.900000    173.500000            9.330000   \n",
       "\n",
       "       Lead_Actress_rating  Director_rating  Producer_rating  Critic_rating  \\\n",
       "count           367.000000       367.000000       367.000000     367.000000   \n",
       "mean              7.866158         7.696512         7.877711       7.930463   \n",
       "std               1.058376         1.062361         1.057139       0.674578   \n",
       "min               4.035000         3.840000         4.030000       6.600000   \n",
       "25%               7.145000         7.007500         7.167500       7.330000   \n",
       "50%               8.040000         7.870000         8.055000       7.960000   \n",
       "75%               8.735000         8.570000         8.750000       8.420000   \n",
       "max               9.480000         9.240000         9.495000       9.400000   \n",
       "\n",
       "       Trailer_views  Time_taken  Twitter_hastags  Avg_age_actors  \\\n",
       "count     367.000000  359.000000       367.000000      367.000000   \n",
       "mean   471371.275204  157.764123       252.550801       38.727520   \n",
       "std     56646.227314   31.676055        33.627903       12.639252   \n",
       "min    233100.000000    0.000000       202.096000        3.000000   \n",
       "25%    445099.000000  133.320000       223.768000       27.000000   \n",
       "50%    480435.000000  159.840000       244.816000       39.000000   \n",
       "75%    510321.500000  182.400000       283.432000       50.000000   \n",
       "max    567784.000000  217.520000       308.000000       60.000000   \n",
       "\n",
       "       Num_multiplex  \n",
       "count     367.000000  \n",
       "mean      512.975477  \n",
       "std       100.102499  \n",
       "min       333.000000  \n",
       "25%       445.000000  \n",
       "50%       501.000000  \n",
       "75%       559.000000  \n",
       "max       868.000000  "
      ]
     },
     "execution_count": 15,
     "metadata": {},
     "output_type": "execute_result"
    }
   ],
   "source": [
    "new_df.describe()"
   ]
  },
  {
   "cell_type": "code",
   "execution_count": 16,
   "metadata": {},
   "outputs": [
    {
     "data": {
      "text/plain": [
       "<matplotlib.axes._subplots.AxesSubplot at 0x7f01ec71ee90>"
      ]
     },
     "execution_count": 16,
     "metadata": {},
     "output_type": "execute_result"
    },
    {
     "data": {
      "image/png": "[encoded data removed]",
      "text/plain": [
       "<Figure size 432x288 with 1 Axes>"
      ]
     },
     "metadata": {
      "needs_background": "light"
     },
     "output_type": "display_data"
    }
   ],
   "source": [
    "sns.boxplot(y='Marketin_expense', data=new_df)"
   ]
  },
  {
   "cell_type": "code",
   "execution_count": 17,
   "metadata": {},
   "outputs": [
    {
     "data": {
      "text/plain": [
       "<seaborn.axisgrid.JointGrid at 0x7f01ec73fc10>"
      ]
     },
     "execution_count": 17,
     "metadata": {},
     "output_type": "execute_result"
    },
    {
     "data": {
      "image/png": "[encoded data removed]",
      "text/plain": [
       "<Figure size 432x432 with 3 Axes>"
      ]
     },
     "metadata": {
      "needs_background": "light"
     },
     "output_type": "display_data"
    }
   ],
   "source": [
    "sns.jointplot(x=\"Marketin_expense\", y=\"Collection\", data=new_df)"
   ]
  },
  {
   "cell_type": "code",
   "execution_count": 18,
   "metadata": {},
   "outputs": [
    {
     "data": {
      "text/plain": [
       "<seaborn.axisgrid.JointGrid at 0x7f01f8ff8ad0>"
      ]
     },
     "execution_count": 18,
     "metadata": {},
     "output_type": "execute_result"
    },
    {
     "data": {
      "image/png": "[encoded data removed]",
      "text/plain": [
       "<Figure size 432x432 with 3 Axes>"
      ]
     },
     "metadata": {
      "needs_background": "light"
     },
     "output_type": "display_data"
    }
   ],
   "source": [
    "sns.jointplot(x=\"Twitter_hastags\", y=\"Collection\", data=new_df)"
   ]
  },
  {
   "cell_type": "code",
   "execution_count": 19,
   "metadata": {},
   "outputs": [
    {
     "data": {
      "text/plain": [
       "<matplotlib.axes._subplots.AxesSubplot at 0x7f01e8d7af50>"
      ]
     },
     "execution_count": 19,
     "metadata": {},
     "output_type": "execute_result"
    },
    {
     "data": {
      "image/png": "[encoded data removed]",
      "text/plain": [
       "<Figure size 432x288 with 1 Axes>"
      ]
     },
     "metadata": {
      "needs_background": "light"
     },
     "output_type": "display_data"
    }
   ],
   "source": [
    "sns.countplot(x=\"Genre\", data=new_df)"
   ]
  },
  {
   "cell_type": "code",
   "execution_count": 20,
   "metadata": {},
   "outputs": [],
   "source": [
    "new_df.Marketin_expense = np.log(1+new_df.Marketin_expense)"
   ]
  },
  {
   "cell_type": "code",
   "execution_count": 21,
   "metadata": {},
   "outputs": [
    {
     "data": {
      "text/plain": [
       "<seaborn.axisgrid.JointGrid at 0x7f01e8c6c910>"
      ]
     },
     "execution_count": 21,
     "metadata": {},
     "output_type": "execute_result"
    },
    {
     "data": {
      "image/png": "[encoded data removed]",
      "text/plain": [
       "<Figure size 432x432 with 3 Axes>"
      ]
     },
     "metadata": {
      "needs_background": "light"
     },
     "output_type": "display_data"
    }
   ],
   "source": [
    "sns.jointplot(x=\"Marketin_expense\", y=\"Collection\", data=new_df)"
   ]
  },
  {
   "cell_type": "code",
   "execution_count": 22,
   "metadata": {},
   "outputs": [
    {
     "data": {
      "text/html": [
       "<div>\n",
       "<style scoped>\n",
       "    .dataframe tbody tr th:only-of-type {\n",
       "        vertical-align: middle;\n",
       "    }\n",
       "\n",
       "    .dataframe tbody tr th {\n",
       "        vertical-align: top;\n",
       "    }\n",
       "\n",
       "    .dataframe thead th {\n",
       "        text-align: right;\n",
       "    }\n",
       "</style>\n",
       "<table border=\"1\" class=\"dataframe\">\n",
       "  <thead>\n",
       "    <tr style=\"text-align: right;\">\n",
       "      <th></th>\n",
       "      <th>Collection</th>\n",
       "      <th>Marketin_expense</th>\n",
       "      <th>Production_expense</th>\n",
       "      <th>Multiplex_coverage</th>\n",
       "      <th>Budget</th>\n",
       "      <th>Movie_length</th>\n",
       "      <th>Lead_ Actor_Rating</th>\n",
       "      <th>Lead_Actress_rating</th>\n",
       "      <th>Director_rating</th>\n",
       "      <th>Producer_rating</th>\n",
       "      <th>Critic_rating</th>\n",
       "      <th>Trailer_views</th>\n",
       "      <th>Time_taken</th>\n",
       "      <th>Twitter_hastags</th>\n",
       "      <th>Genre</th>\n",
       "      <th>Avg_age_actors</th>\n",
       "      <th>MPAA_film_rating</th>\n",
       "      <th>Num_multiplex</th>\n",
       "      <th>3D_available</th>\n",
       "    </tr>\n",
       "  </thead>\n",
       "  <tbody>\n",
       "    <tr>\n",
       "      <th>0</th>\n",
       "      <td>48000</td>\n",
       "      <td>3.050523</td>\n",
       "      <td>59.62</td>\n",
       "      <td>0.462</td>\n",
       "      <td>36524.125</td>\n",
       "      <td>138.7</td>\n",
       "      <td>7.825</td>\n",
       "      <td>8.095</td>\n",
       "      <td>7.910</td>\n",
       "      <td>7.995</td>\n",
       "      <td>7.94</td>\n",
       "      <td>527367</td>\n",
       "      <td>109.60</td>\n",
       "      <td>223.840</td>\n",
       "      <td>Thriller</td>\n",
       "      <td>23</td>\n",
       "      <td>PG</td>\n",
       "      <td>494</td>\n",
       "      <td>YES</td>\n",
       "    </tr>\n",
       "    <tr>\n",
       "      <th>1</th>\n",
       "      <td>43200</td>\n",
       "      <td>3.070199</td>\n",
       "      <td>69.14</td>\n",
       "      <td>0.531</td>\n",
       "      <td>35668.655</td>\n",
       "      <td>152.4</td>\n",
       "      <td>7.505</td>\n",
       "      <td>7.650</td>\n",
       "      <td>7.440</td>\n",
       "      <td>7.470</td>\n",
       "      <td>7.44</td>\n",
       "      <td>494055</td>\n",
       "      <td>146.64</td>\n",
       "      <td>243.456</td>\n",
       "      <td>Drama</td>\n",
       "      <td>42</td>\n",
       "      <td>PG</td>\n",
       "      <td>462</td>\n",
       "      <td>NO</td>\n",
       "    </tr>\n",
       "    <tr>\n",
       "      <th>3</th>\n",
       "      <td>66800</td>\n",
       "      <td>3.074885</td>\n",
       "      <td>59.36</td>\n",
       "      <td>0.542</td>\n",
       "      <td>38873.890</td>\n",
       "      <td>119.3</td>\n",
       "      <td>6.895</td>\n",
       "      <td>7.035</td>\n",
       "      <td>6.920</td>\n",
       "      <td>7.020</td>\n",
       "      <td>8.26</td>\n",
       "      <td>516279</td>\n",
       "      <td>185.36</td>\n",
       "      <td>225.344</td>\n",
       "      <td>Drama</td>\n",
       "      <td>45</td>\n",
       "      <td>PG</td>\n",
       "      <td>472</td>\n",
       "      <td>YES</td>\n",
       "    </tr>\n",
       "    <tr>\n",
       "      <th>4</th>\n",
       "      <td>72400</td>\n",
       "      <td>3.108212</td>\n",
       "      <td>59.36</td>\n",
       "      <td>0.542</td>\n",
       "      <td>39701.585</td>\n",
       "      <td>127.7</td>\n",
       "      <td>6.920</td>\n",
       "      <td>7.070</td>\n",
       "      <td>6.815</td>\n",
       "      <td>7.070</td>\n",
       "      <td>8.26</td>\n",
       "      <td>531448</td>\n",
       "      <td>176.48</td>\n",
       "      <td>225.792</td>\n",
       "      <td>Drama</td>\n",
       "      <td>55</td>\n",
       "      <td>PG</td>\n",
       "      <td>395</td>\n",
       "      <td>NO</td>\n",
       "    </tr>\n",
       "    <tr>\n",
       "      <th>5</th>\n",
       "      <td>57400</td>\n",
       "      <td>3.072554</td>\n",
       "      <td>59.36</td>\n",
       "      <td>0.542</td>\n",
       "      <td>35718.650</td>\n",
       "      <td>132.2</td>\n",
       "      <td>6.890</td>\n",
       "      <td>7.100</td>\n",
       "      <td>6.885</td>\n",
       "      <td>7.005</td>\n",
       "      <td>7.26</td>\n",
       "      <td>498425</td>\n",
       "      <td>143.48</td>\n",
       "      <td>284.592</td>\n",
       "      <td>Comedy</td>\n",
       "      <td>53</td>\n",
       "      <td>PG</td>\n",
       "      <td>460</td>\n",
       "      <td>YES</td>\n",
       "    </tr>\n",
       "  </tbody>\n",
       "</table>\n",
       "</div>"
      ],
      "text/plain": [
       "   Collection  Marketin_expense  Production_expense  Multiplex_coverage  \\\n",
       "0       48000          3.050523               59.62               0.462   \n",
       "1       43200          3.070199               69.14               0.531   \n",
       "3       66800          3.074885               59.36               0.542   \n",
       "4       72400          3.108212               59.36               0.542   \n",
       "5       57400          3.072554               59.36               0.542   \n",
       "\n",
       "      Budget  Movie_length  Lead_ Actor_Rating  Lead_Actress_rating  \\\n",
       "0  36524.125         138.7               7.825                8.095   \n",
       "1  35668.655         152.4               7.505                7.650   \n",
       "3  38873.890         119.3               6.895                7.035   \n",
       "4  39701.585         127.7               6.920                7.070   \n",
       "5  35718.650         132.2               6.890                7.100   \n",
       "\n",
       "   Director_rating  Producer_rating  Critic_rating  Trailer_views  Time_taken  \\\n",
       "0            7.910            7.995           7.94         527367      109.60   \n",
       "1            7.440            7.470           7.44         494055      146.64   \n",
       "3            6.920            7.020           8.26         516279      185.36   \n",
       "4            6.815            7.070           8.26         531448      176.48   \n",
       "5            6.885            7.005           7.26         498425      143.48   \n",
       "\n",
       "   Twitter_hastags     Genre  Avg_age_actors MPAA_film_rating  Num_multiplex  \\\n",
       "0          223.840  Thriller              23               PG            494   \n",
       "1          243.456     Drama              42               PG            462   \n",
       "3          225.344     Drama              45               PG            472   \n",
       "4          225.792     Drama              55               PG            395   \n",
       "5          284.592    Comedy              53               PG            460   \n",
       "\n",
       "  3D_available  \n",
       "0          YES  \n",
       "1           NO  \n",
       "3          YES  \n",
       "4           NO  \n",
       "5          YES  "
      ]
     },
     "execution_count": 22,
     "metadata": {},
     "output_type": "execute_result"
    }
   ],
   "source": [
    "new_df.head()"
   ]
  },
  {
   "cell_type": "code",
   "execution_count": 23,
   "metadata": {},
   "outputs": [],
   "source": [
    "new_df.drop(['MPAA_film_rating'], axis=1, inplace=True) #dropping MPAA_film becase it has a constant zero variance, all its values are the same"
   ]
  },
  {
   "cell_type": "code",
   "execution_count": 24,
   "metadata": {},
   "outputs": [],
   "source": [
    "encode = LabelEncoder()\n",
    "for column in list(new_df.columns):\n",
    "  if new_df[column].dtype == np.object:\n",
    "    new_df[column] = new_df[column].astype(str)\n",
    "    new_df[column] = encode.fit_transform(new_df[column])"
   ]
  },
  {
   "cell_type": "code",
   "execution_count": 25,
   "metadata": {},
   "outputs": [
    {
     "data": {
      "text/html": [
       "<div>\n",
       "<style scoped>\n",
       "    .dataframe tbody tr th:only-of-type {\n",
       "        vertical-align: middle;\n",
       "    }\n",
       "\n",
       "    .dataframe tbody tr th {\n",
       "        vertical-align: top;\n",
       "    }\n",
       "\n",
       "    .dataframe thead th {\n",
       "        text-align: right;\n",
       "    }\n",
       "</style>\n",
       "<table border=\"1\" class=\"dataframe\">\n",
       "  <thead>\n",
       "    <tr style=\"text-align: right;\">\n",
       "      <th></th>\n",
       "      <th>Collection</th>\n",
       "      <th>Marketin_expense</th>\n",
       "      <th>Production_expense</th>\n",
       "      <th>Multiplex_coverage</th>\n",
       "      <th>Budget</th>\n",
       "      <th>Movie_length</th>\n",
       "      <th>Lead_ Actor_Rating</th>\n",
       "      <th>Lead_Actress_rating</th>\n",
       "      <th>Director_rating</th>\n",
       "      <th>Producer_rating</th>\n",
       "      <th>Critic_rating</th>\n",
       "      <th>Trailer_views</th>\n",
       "      <th>Time_taken</th>\n",
       "      <th>Twitter_hastags</th>\n",
       "      <th>Genre</th>\n",
       "      <th>Avg_age_actors</th>\n",
       "      <th>Num_multiplex</th>\n",
       "      <th>3D_available</th>\n",
       "    </tr>\n",
       "  </thead>\n",
       "  <tbody>\n",
       "    <tr>\n",
       "      <th>0</th>\n",
       "      <td>48000</td>\n",
       "      <td>3.050523</td>\n",
       "      <td>59.62</td>\n",
       "      <td>0.462</td>\n",
       "      <td>36524.125</td>\n",
       "      <td>138.7</td>\n",
       "      <td>7.825</td>\n",
       "      <td>8.095</td>\n",
       "      <td>7.910</td>\n",
       "      <td>7.995</td>\n",
       "      <td>7.94</td>\n",
       "      <td>527367</td>\n",
       "      <td>109.60</td>\n",
       "      <td>223.840</td>\n",
       "      <td>3</td>\n",
       "      <td>23</td>\n",
       "      <td>494</td>\n",
       "      <td>1</td>\n",
       "    </tr>\n",
       "    <tr>\n",
       "      <th>1</th>\n",
       "      <td>43200</td>\n",
       "      <td>3.070199</td>\n",
       "      <td>69.14</td>\n",
       "      <td>0.531</td>\n",
       "      <td>35668.655</td>\n",
       "      <td>152.4</td>\n",
       "      <td>7.505</td>\n",
       "      <td>7.650</td>\n",
       "      <td>7.440</td>\n",
       "      <td>7.470</td>\n",
       "      <td>7.44</td>\n",
       "      <td>494055</td>\n",
       "      <td>146.64</td>\n",
       "      <td>243.456</td>\n",
       "      <td>2</td>\n",
       "      <td>42</td>\n",
       "      <td>462</td>\n",
       "      <td>0</td>\n",
       "    </tr>\n",
       "    <tr>\n",
       "      <th>3</th>\n",
       "      <td>66800</td>\n",
       "      <td>3.074885</td>\n",
       "      <td>59.36</td>\n",
       "      <td>0.542</td>\n",
       "      <td>38873.890</td>\n",
       "      <td>119.3</td>\n",
       "      <td>6.895</td>\n",
       "      <td>7.035</td>\n",
       "      <td>6.920</td>\n",
       "      <td>7.020</td>\n",
       "      <td>8.26</td>\n",
       "      <td>516279</td>\n",
       "      <td>185.36</td>\n",
       "      <td>225.344</td>\n",
       "      <td>2</td>\n",
       "      <td>45</td>\n",
       "      <td>472</td>\n",
       "      <td>1</td>\n",
       "    </tr>\n",
       "    <tr>\n",
       "      <th>4</th>\n",
       "      <td>72400</td>\n",
       "      <td>3.108212</td>\n",
       "      <td>59.36</td>\n",
       "      <td>0.542</td>\n",
       "      <td>39701.585</td>\n",
       "      <td>127.7</td>\n",
       "      <td>6.920</td>\n",
       "      <td>7.070</td>\n",
       "      <td>6.815</td>\n",
       "      <td>7.070</td>\n",
       "      <td>8.26</td>\n",
       "      <td>531448</td>\n",
       "      <td>176.48</td>\n",
       "      <td>225.792</td>\n",
       "      <td>2</td>\n",
       "      <td>55</td>\n",
       "      <td>395</td>\n",
       "      <td>0</td>\n",
       "    </tr>\n",
       "    <tr>\n",
       "      <th>5</th>\n",
       "      <td>57400</td>\n",
       "      <td>3.072554</td>\n",
       "      <td>59.36</td>\n",
       "      <td>0.542</td>\n",
       "      <td>35718.650</td>\n",
       "      <td>132.2</td>\n",
       "      <td>6.890</td>\n",
       "      <td>7.100</td>\n",
       "      <td>6.885</td>\n",
       "      <td>7.005</td>\n",
       "      <td>7.26</td>\n",
       "      <td>498425</td>\n",
       "      <td>143.48</td>\n",
       "      <td>284.592</td>\n",
       "      <td>1</td>\n",
       "      <td>53</td>\n",
       "      <td>460</td>\n",
       "      <td>1</td>\n",
       "    </tr>\n",
       "  </tbody>\n",
       "</table>\n",
       "</div>"
      ],
      "text/plain": [
       "   Collection  Marketin_expense  Production_expense  Multiplex_coverage  \\\n",
       "0       48000          3.050523               59.62               0.462   \n",
       "1       43200          3.070199               69.14               0.531   \n",
       "3       66800          3.074885               59.36               0.542   \n",
       "4       72400          3.108212               59.36               0.542   \n",
       "5       57400          3.072554               59.36               0.542   \n",
       "\n",
       "      Budget  Movie_length  Lead_ Actor_Rating  Lead_Actress_rating  \\\n",
       "0  36524.125         138.7               7.825                8.095   \n",
       "1  35668.655         152.4               7.505                7.650   \n",
       "3  38873.890         119.3               6.895                7.035   \n",
       "4  39701.585         127.7               6.920                7.070   \n",
       "5  35718.650         132.2               6.890                7.100   \n",
       "\n",
       "   Director_rating  Producer_rating  Critic_rating  Trailer_views  Time_taken  \\\n",
       "0            7.910            7.995           7.94         527367      109.60   \n",
       "1            7.440            7.470           7.44         494055      146.64   \n",
       "3            6.920            7.020           8.26         516279      185.36   \n",
       "4            6.815            7.070           8.26         531448      176.48   \n",
       "5            6.885            7.005           7.26         498425      143.48   \n",
       "\n",
       "   Twitter_hastags  Genre  Avg_age_actors  Num_multiplex  3D_available  \n",
       "0          223.840      3              23            494             1  \n",
       "1          243.456      2              42            462             0  \n",
       "3          225.344      2              45            472             1  \n",
       "4          225.792      2              55            395             0  \n",
       "5          284.592      1              53            460             1  "
      ]
     },
     "execution_count": 25,
     "metadata": {},
     "output_type": "execute_result"
    }
   ],
   "source": [
    "new_df.head()"
   ]
  },
  {
   "cell_type": "code",
   "execution_count": 26,
   "metadata": {},
   "outputs": [],
   "source": [
    "new_df['avg_people_rating'] = (new_df['Lead_ Actor_Rating']+new_df['Lead_Actress_rating']+new_df['Director_rating']+new_df['Producer_rating'])/4\n",
    "new_df.drop(['Lead_ Actor_Rating', 'Lead_Actress_rating', 'Director_rating', 'Producer_rating'], axis=1, inplace=True)"
   ]
  },
  {
   "cell_type": "code",
   "execution_count": 27,
   "metadata": {},
   "outputs": [
    {
     "data": {
      "text/plain": [
       "(367, 15)"
      ]
     },
     "execution_count": 27,
     "metadata": {},
     "output_type": "execute_result"
    }
   ],
   "source": [
    "new_df.shape"
   ]
  },
  {
   "cell_type": "code",
   "execution_count": 28,
   "metadata": {},
   "outputs": [
    {
     "data": {
      "text/plain": [
       "(15.0, 0.0)"
      ]
     },
     "execution_count": 28,
     "metadata": {},
     "output_type": "execute_result"
    },
    {
     "data": {
      "image/png": "[encoded data removed]",
      "text/plain": [
       "<Figure size 1080x720 with 2 Axes>"
      ]
     },
     "metadata": {
      "needs_background": "light"
     },
     "output_type": "display_data"
    }
   ],
   "source": [
    "plt.figure(figsize = (15, 10))\n",
    "cm = new_df.corr()\n",
    "ax = sns.heatmap(cm, annot=True, cmap='viridis')\n",
    "bottom, top = ax.get_ylim()\n",
    "ax.set_ylim(bottom + 0.5, top - 0.5)"
   ]
  },
  {
   "cell_type": "code",
   "execution_count": 29,
   "metadata": {},
   "outputs": [
    {
     "data": {
      "text/plain": [
       "<seaborn.axisgrid.JointGrid at 0x7f01e84f1650>"
      ]
     },
     "execution_count": 29,
     "metadata": {},
     "output_type": "execute_result"
    },
    {
     "data": {
      "image/png": "[encoded data removed]",
      "text/plain": [
       "<Figure size 432x432 with 3 Axes>"
      ]
     },
     "metadata": {
      "needs_background": "light"
     },
     "output_type": "display_data"
    }
   ],
   "source": [
    "sns.jointplot(x=\"Num_multiplex\", y=\"Multiplex_coverage\", data=new_df)"
   ]
  },
  {
   "cell_type": "code",
   "execution_count": 30,
   "metadata": {},
   "outputs": [
    {
     "data": {
      "text/plain": [
       "<seaborn.axisgrid.JointGrid at 0x7f01e84f1310>"
      ]
     },
     "execution_count": 30,
     "metadata": {},
     "output_type": "execute_result"
    },
    {
     "data": {
      "image/png": "[encoded data removed]",
      "text/plain": [
       "<Figure size 432x432 with 3 Axes>"
      ]
     },
     "metadata": {
      "needs_background": "light"
     },
     "output_type": "display_data"
    }
   ],
   "source": [
    "sns.jointplot(x=\"Marketin_expense\", y=\"Multiplex_coverage\", data=new_df)"
   ]
  },
  {
   "cell_type": "markdown",
   "metadata": {},
   "source": [
    "**OBSERVATION**\n",
    "\n",
    "The above cell 34 shows the correlation between all the variables of the dataset, however discovered in this dataset is the high negative correlation between two independent variables \"Multiplex_coverage\" and \"Num_multiplex\" which have a correlation coefficient of -0.914065, in addition the scatter plot in the above cell 35 shows the correlation relationship between these two variables which explains the high correlation between them. This type of relationship is called Linear correlation.\n",
    "\n",
    "This means that the above two variables cannot be used together in building any model from this dataset to avoid multi-collinearity, therefore one of them must be removed."
   ]
  },
  {
   "cell_type": "code",
   "execution_count": 31,
   "metadata": {},
   "outputs": [],
   "source": [
    "new_df.drop(['Num_multiplex'], axis=1, inplace=True) #dropping multiplex_coverage because of its high correlation with some other independent variable"
   ]
  },
  {
   "cell_type": "markdown",
   "metadata": {},
   "source": [
    "#### Testing: Performing simple and multiple linear regression via Ordinary Least Square"
   ]
  },
  {
   "cell_type": "code",
   "execution_count": 32,
   "metadata": {},
   "outputs": [
    {
     "data": {
      "text/plain": [
       "<seaborn.axisgrid.JointGrid at 0x7f01e87bdcd0>"
      ]
     },
     "execution_count": 32,
     "metadata": {},
     "output_type": "execute_result"
    },
    {
     "data": {
      "image/png": "[encoded data removed]",
      "text/plain": [
       "<Figure size 432x432 with 3 Axes>"
      ]
     },
     "metadata": {
      "needs_background": "light"
     },
     "output_type": "display_data"
    }
   ],
   "source": [
    "sns.jointplot(x='Budget', y='Collection', data=new_df) #budget is the only independent variable that seem to have the best correlation with the dependent variable"
   ]
  },
  {
   "cell_type": "code",
   "execution_count": 33,
   "metadata": {},
   "outputs": [],
   "source": [
    "x = sn.add_constant(new_df['Budget'])"
   ]
  },
  {
   "cell_type": "code",
   "execution_count": 34,
   "metadata": {},
   "outputs": [],
   "source": [
    "lm = sn.OLS(new_df['Collection'], x).fit()"
   ]
  },
  {
   "cell_type": "code",
   "execution_count": 35,
   "metadata": {
    "scrolled": true
   },
   "outputs": [
    {
     "data": {
      "text/html": [
       "<table class=\"simpletable\">\n",
       "<caption>OLS Regression Results</caption>\n",
       "<tr>\n",
       "  <th>Dep. Variable:</th>       <td>Collection</td>    <th>  R-squared:         </th> <td>   0.670</td>\n",
       "</tr>\n",
       "<tr>\n",
       "  <th>Model:</th>                   <td>OLS</td>       <th>  Adj. R-squared:    </th> <td>   0.669</td>\n",
       "</tr>\n",
       "<tr>\n",
       "  <th>Method:</th>             <td>Least Squares</td>  <th>  F-statistic:       </th> <td>   740.4</td>\n",
       "</tr>\n",
       "<tr>\n",
       "  <th>Date:</th>             <td>Mon, 14 Jun 2021</td> <th>  Prob (F-statistic):</th> <td>7.68e-90</td>\n",
       "</tr>\n",
       "<tr>\n",
       "  <th>Time:</th>                 <td>08:53:13</td>     <th>  Log-Likelihood:    </th> <td> -3887.4</td>\n",
       "</tr>\n",
       "<tr>\n",
       "  <th>No. Observations:</th>      <td>   367</td>      <th>  AIC:               </th> <td>   7779.</td>\n",
       "</tr>\n",
       "<tr>\n",
       "  <th>Df Residuals:</th>          <td>   365</td>      <th>  BIC:               </th> <td>   7787.</td>\n",
       "</tr>\n",
       "<tr>\n",
       "  <th>Df Model:</th>              <td>     1</td>      <th>                     </th>     <td> </td>   \n",
       "</tr>\n",
       "<tr>\n",
       "  <th>Covariance Type:</th>      <td>nonrobust</td>    <th>                     </th>     <td> </td>   \n",
       "</tr>\n",
       "</table>\n",
       "<table class=\"simpletable\">\n",
       "<tr>\n",
       "     <td></td>       <th>coef</th>     <th>std err</th>      <th>t</th>      <th>P>|t|</th>  <th>[0.025</th>    <th>0.975]</th>  \n",
       "</tr>\n",
       "<tr>\n",
       "  <th>const</th>  <td>-7.509e+04</td> <td> 4622.656</td> <td>  -16.245</td> <td> 0.000</td> <td>-8.42e+04</td> <td> -6.6e+04</td>\n",
       "</tr>\n",
       "<tr>\n",
       "  <th>Budget</th> <td>    3.5268</td> <td>    0.130</td> <td>   27.210</td> <td> 0.000</td> <td>    3.272</td> <td>    3.782</td>\n",
       "</tr>\n",
       "</table>\n",
       "<table class=\"simpletable\">\n",
       "<tr>\n",
       "  <th>Omnibus:</th>       <td>208.298</td> <th>  Durbin-Watson:     </th> <td>   1.333</td>\n",
       "</tr>\n",
       "<tr>\n",
       "  <th>Prob(Omnibus):</th> <td> 0.000</td>  <th>  Jarque-Bera (JB):  </th> <td>4584.702</td>\n",
       "</tr>\n",
       "<tr>\n",
       "  <th>Skew:</th>          <td> 1.900</td>  <th>  Prob(JB):          </th> <td>    0.00</td>\n",
       "</tr>\n",
       "<tr>\n",
       "  <th>Kurtosis:</th>      <td>19.893</td>  <th>  Cond. No.          </th> <td>3.27e+05</td>\n",
       "</tr>\n",
       "</table><br/><br/>Warnings:<br/>[1] Standard Errors assume that the covariance matrix of the errors is correctly specified.<br/>[2] The condition number is large, 3.27e+05. This might indicate that there are<br/>strong multicollinearity or other numerical problems."
      ],
      "text/plain": [
       "<class 'statsmodels.iolib.summary.Summary'>\n",
       "\"\"\"\n",
       "                            OLS Regression Results                            \n",
       "==============================================================================\n",
       "Dep. Variable:             Collection   R-squared:                       0.670\n",
       "Model:                            OLS   Adj. R-squared:                  0.669\n",
       "Method:                 Least Squares   F-statistic:                     740.4\n",
       "Date:                Mon, 14 Jun 2021   Prob (F-statistic):           7.68e-90\n",
       "Time:                        08:53:13   Log-Likelihood:                -3887.4\n",
       "No. Observations:                 367   AIC:                             7779.\n",
       "Df Residuals:                     365   BIC:                             7787.\n",
       "Df Model:                           1                                         \n",
       "Covariance Type:            nonrobust                                         \n",
       "==============================================================================\n",
       "                 coef    std err          t      P>|t|      [0.025      0.975]\n",
       "------------------------------------------------------------------------------\n",
       "const      -7.509e+04   4622.656    -16.245      0.000   -8.42e+04    -6.6e+04\n",
       "Budget         3.5268      0.130     27.210      0.000       3.272       3.782\n",
       "==============================================================================\n",
       "Omnibus:                      208.298   Durbin-Watson:                   1.333\n",
       "Prob(Omnibus):                  0.000   Jarque-Bera (JB):             4584.702\n",
       "Skew:                           1.900   Prob(JB):                         0.00\n",
       "Kurtosis:                      19.893   Cond. No.                     3.27e+05\n",
       "==============================================================================\n",
       "\n",
       "Warnings:\n",
       "[1] Standard Errors assume that the covariance matrix of the errors is correctly specified.\n",
       "[2] The condition number is large, 3.27e+05. This might indicate that there are\n",
       "strong multicollinearity or other numerical problems.\n",
       "\"\"\""
      ]
     },
     "execution_count": 35,
     "metadata": {},
     "output_type": "execute_result"
    }
   ],
   "source": [
    "lm.summary()"
   ]
  },
  {
   "cell_type": "code",
   "execution_count": 36,
   "metadata": {},
   "outputs": [],
   "source": [
    "xlin = new_df.drop(['Collection', 'Time_taken'], axis=1) #dropping time taken coz it has missing values\n",
    "ylin = new_df['Collection']\n",
    "xlin_const = sn.add_constant(xlin)\n",
    "lm_ = sn.OLS(ylin, xlin_const).fit()"
   ]
  },
  {
   "cell_type": "code",
   "execution_count": 37,
   "metadata": {
    "scrolled": false
   },
   "outputs": [
    {
     "data": {
      "text/html": [
       "<table class=\"simpletable\">\n",
       "<caption>OLS Regression Results</caption>\n",
       "<tr>\n",
       "  <th>Dep. Variable:</th>       <td>Collection</td>    <th>  R-squared:         </th> <td>   0.762</td> \n",
       "</tr>\n",
       "<tr>\n",
       "  <th>Model:</th>                   <td>OLS</td>       <th>  Adj. R-squared:    </th> <td>   0.754</td> \n",
       "</tr>\n",
       "<tr>\n",
       "  <th>Method:</th>             <td>Least Squares</td>  <th>  F-statistic:       </th> <td>   94.69</td> \n",
       "</tr>\n",
       "<tr>\n",
       "  <th>Date:</th>             <td>Mon, 14 Jun 2021</td> <th>  Prob (F-statistic):</th> <td>1.31e-102</td>\n",
       "</tr>\n",
       "<tr>\n",
       "  <th>Time:</th>                 <td>08:53:18</td>     <th>  Log-Likelihood:    </th> <td> -3826.9</td> \n",
       "</tr>\n",
       "<tr>\n",
       "  <th>No. Observations:</th>      <td>   367</td>      <th>  AIC:               </th> <td>   7680.</td> \n",
       "</tr>\n",
       "<tr>\n",
       "  <th>Df Residuals:</th>          <td>   354</td>      <th>  BIC:               </th> <td>   7731.</td> \n",
       "</tr>\n",
       "<tr>\n",
       "  <th>Df Model:</th>              <td>    12</td>      <th>                     </th>     <td> </td>    \n",
       "</tr>\n",
       "<tr>\n",
       "  <th>Covariance Type:</th>      <td>nonrobust</td>    <th>                     </th>     <td> </td>    \n",
       "</tr>\n",
       "</table>\n",
       "<table class=\"simpletable\">\n",
       "<tr>\n",
       "           <td></td>             <th>coef</th>     <th>std err</th>      <th>t</th>      <th>P>|t|</th>  <th>[0.025</th>    <th>0.975]</th>  \n",
       "</tr>\n",
       "<tr>\n",
       "  <th>const</th>              <td>-1.713e+05</td> <td> 1.53e+04</td> <td>  -11.199</td> <td> 0.000</td> <td>-2.01e+05</td> <td>-1.41e+05</td>\n",
       "</tr>\n",
       "<tr>\n",
       "  <th>Marketin_expense</th>   <td> 8852.2513</td> <td> 1916.335</td> <td>    4.619</td> <td> 0.000</td> <td> 5083.418</td> <td> 1.26e+04</td>\n",
       "</tr>\n",
       "<tr>\n",
       "  <th>Production_expense</th> <td>  -81.6193</td> <td>   54.790</td> <td>   -1.490</td> <td> 0.137</td> <td> -189.374</td> <td>   26.135</td>\n",
       "</tr>\n",
       "<tr>\n",
       "  <th>Multiplex_coverage</th> <td>  3.19e+04</td> <td> 9031.845</td> <td>    3.532</td> <td> 0.000</td> <td> 1.41e+04</td> <td> 4.97e+04</td>\n",
       "</tr>\n",
       "<tr>\n",
       "  <th>Budget</th>             <td>    2.7092</td> <td>    0.154</td> <td>   17.624</td> <td> 0.000</td> <td>    2.407</td> <td>    3.011</td>\n",
       "</tr>\n",
       "<tr>\n",
       "  <th>Movie_length</th>       <td>  -66.7892</td> <td>   25.228</td> <td>   -2.647</td> <td> 0.008</td> <td> -116.405</td> <td>  -17.173</td>\n",
       "</tr>\n",
       "<tr>\n",
       "  <th>Critic_rating</th>      <td> 3601.8505</td> <td>  683.686</td> <td>    5.268</td> <td> 0.000</td> <td> 2257.255</td> <td> 4946.447</td>\n",
       "</tr>\n",
       "<tr>\n",
       "  <th>Trailer_views</th>      <td>    0.0620</td> <td>    0.012</td> <td>    5.290</td> <td> 0.000</td> <td>    0.039</td> <td>    0.085</td>\n",
       "</tr>\n",
       "<tr>\n",
       "  <th>Twitter_hastags</th>    <td>   11.3997</td> <td>   13.214</td> <td>    0.863</td> <td> 0.389</td> <td>  -14.589</td> <td>   37.388</td>\n",
       "</tr>\n",
       "<tr>\n",
       "  <th>Genre</th>              <td>  225.4242</td> <td>  410.290</td> <td>    0.549</td> <td> 0.583</td> <td> -581.489</td> <td> 1032.337</td>\n",
       "</tr>\n",
       "<tr>\n",
       "  <th>Avg_age_actors</th>     <td>   28.5015</td> <td>   35.023</td> <td>    0.814</td> <td> 0.416</td> <td>  -40.378</td> <td>   97.381</td>\n",
       "</tr>\n",
       "<tr>\n",
       "  <th>3D_available</th>       <td> 1608.2835</td> <td>  900.825</td> <td>    1.785</td> <td> 0.075</td> <td> -163.359</td> <td> 3379.926</td>\n",
       "</tr>\n",
       "<tr>\n",
       "  <th>avg_people_rating</th>  <td> 4103.5778</td> <td>  681.496</td> <td>    6.021</td> <td> 0.000</td> <td> 2763.289</td> <td> 5443.867</td>\n",
       "</tr>\n",
       "</table>\n",
       "<table class=\"simpletable\">\n",
       "<tr>\n",
       "  <th>Omnibus:</th>       <td>118.251</td> <th>  Durbin-Watson:     </th> <td>   1.457</td> \n",
       "</tr>\n",
       "<tr>\n",
       "  <th>Prob(Omnibus):</th> <td> 0.000</td>  <th>  Jarque-Bera (JB):  </th> <td>1160.114</td> \n",
       "</tr>\n",
       "<tr>\n",
       "  <th>Skew:</th>          <td> 1.047</td>  <th>  Prob(JB):          </th> <td>1.21e-252</td>\n",
       "</tr>\n",
       "<tr>\n",
       "  <th>Kurtosis:</th>      <td>11.455</td>  <th>  Cond. No.          </th> <td>1.87e+07</td> \n",
       "</tr>\n",
       "</table><br/><br/>Warnings:<br/>[1] Standard Errors assume that the covariance matrix of the errors is correctly specified.<br/>[2] The condition number is large, 1.87e+07. This might indicate that there are<br/>strong multicollinearity or other numerical problems."
      ],
      "text/plain": [
       "<class 'statsmodels.iolib.summary.Summary'>\n",
       "\"\"\"\n",
       "                            OLS Regression Results                            \n",
       "==============================================================================\n",
       "Dep. Variable:             Collection   R-squared:                       0.762\n",
       "Model:                            OLS   Adj. R-squared:                  0.754\n",
       "Method:                 Least Squares   F-statistic:                     94.69\n",
       "Date:                Mon, 14 Jun 2021   Prob (F-statistic):          1.31e-102\n",
       "Time:                        08:53:18   Log-Likelihood:                -3826.9\n",
       "No. Observations:                 367   AIC:                             7680.\n",
       "Df Residuals:                     354   BIC:                             7731.\n",
       "Df Model:                          12                                         \n",
       "Covariance Type:            nonrobust                                         \n",
       "======================================================================================\n",
       "                         coef    std err          t      P>|t|      [0.025      0.975]\n",
       "--------------------------------------------------------------------------------------\n",
       "const              -1.713e+05   1.53e+04    -11.199      0.000   -2.01e+05   -1.41e+05\n",
       "Marketin_expense    8852.2513   1916.335      4.619      0.000    5083.418    1.26e+04\n",
       "Production_expense   -81.6193     54.790     -1.490      0.137    -189.374      26.135\n",
       "Multiplex_coverage   3.19e+04   9031.845      3.532      0.000    1.41e+04    4.97e+04\n",
       "Budget                 2.7092      0.154     17.624      0.000       2.407       3.011\n",
       "Movie_length         -66.7892     25.228     -2.647      0.008    -116.405     -17.173\n",
       "Critic_rating       3601.8505    683.686      5.268      0.000    2257.255    4946.447\n",
       "Trailer_views          0.0620      0.012      5.290      0.000       0.039       0.085\n",
       "Twitter_hastags       11.3997     13.214      0.863      0.389     -14.589      37.388\n",
       "Genre                225.4242    410.290      0.549      0.583    -581.489    1032.337\n",
       "Avg_age_actors        28.5015     35.023      0.814      0.416     -40.378      97.381\n",
       "3D_available        1608.2835    900.825      1.785      0.075    -163.359    3379.926\n",
       "avg_people_rating   4103.5778    681.496      6.021      0.000    2763.289    5443.867\n",
       "==============================================================================\n",
       "Omnibus:                      118.251   Durbin-Watson:                   1.457\n",
       "Prob(Omnibus):                  0.000   Jarque-Bera (JB):             1160.114\n",
       "Skew:                           1.047   Prob(JB):                    1.21e-252\n",
       "Kurtosis:                      11.455   Cond. No.                     1.87e+07\n",
       "==============================================================================\n",
       "\n",
       "Warnings:\n",
       "[1] Standard Errors assume that the covariance matrix of the errors is correctly specified.\n",
       "[2] The condition number is large, 1.87e+07. This might indicate that there are\n",
       "strong multicollinearity or other numerical problems.\n",
       "\"\"\""
      ]
     },
     "execution_count": 37,
     "metadata": {},
     "output_type": "execute_result"
    }
   ],
   "source": [
    "lm_.summary()"
   ]
  },
  {
   "cell_type": "code",
   "execution_count": 38,
   "metadata": {},
   "outputs": [],
   "source": [
    "new_df.drop(['Time_taken'], axis=1, inplace=True)"
   ]
  },
  {
   "cell_type": "code",
   "execution_count": 39,
   "metadata": {},
   "outputs": [
    {
     "data": {
      "text/html": [
       "<div>\n",
       "<style scoped>\n",
       "    .dataframe tbody tr th:only-of-type {\n",
       "        vertical-align: middle;\n",
       "    }\n",
       "\n",
       "    .dataframe tbody tr th {\n",
       "        vertical-align: top;\n",
       "    }\n",
       "\n",
       "    .dataframe thead th {\n",
       "        text-align: right;\n",
       "    }\n",
       "</style>\n",
       "<table border=\"1\" class=\"dataframe\">\n",
       "  <thead>\n",
       "    <tr style=\"text-align: right;\">\n",
       "      <th></th>\n",
       "      <th>Collection</th>\n",
       "      <th>Marketin_expense</th>\n",
       "      <th>Production_expense</th>\n",
       "      <th>Multiplex_coverage</th>\n",
       "      <th>Budget</th>\n",
       "      <th>Movie_length</th>\n",
       "      <th>Critic_rating</th>\n",
       "      <th>Trailer_views</th>\n",
       "      <th>Twitter_hastags</th>\n",
       "      <th>Genre</th>\n",
       "      <th>Avg_age_actors</th>\n",
       "      <th>3D_available</th>\n",
       "      <th>avg_people_rating</th>\n",
       "    </tr>\n",
       "  </thead>\n",
       "  <tbody>\n",
       "    <tr>\n",
       "      <th>0</th>\n",
       "      <td>48000</td>\n",
       "      <td>3.050523</td>\n",
       "      <td>59.62</td>\n",
       "      <td>0.462</td>\n",
       "      <td>36524.125</td>\n",
       "      <td>138.7</td>\n",
       "      <td>7.94</td>\n",
       "      <td>527367</td>\n",
       "      <td>223.840</td>\n",
       "      <td>3</td>\n",
       "      <td>23</td>\n",
       "      <td>1</td>\n",
       "      <td>7.95625</td>\n",
       "    </tr>\n",
       "    <tr>\n",
       "      <th>1</th>\n",
       "      <td>43200</td>\n",
       "      <td>3.070199</td>\n",
       "      <td>69.14</td>\n",
       "      <td>0.531</td>\n",
       "      <td>35668.655</td>\n",
       "      <td>152.4</td>\n",
       "      <td>7.44</td>\n",
       "      <td>494055</td>\n",
       "      <td>243.456</td>\n",
       "      <td>2</td>\n",
       "      <td>42</td>\n",
       "      <td>0</td>\n",
       "      <td>7.51625</td>\n",
       "    </tr>\n",
       "    <tr>\n",
       "      <th>3</th>\n",
       "      <td>66800</td>\n",
       "      <td>3.074885</td>\n",
       "      <td>59.36</td>\n",
       "      <td>0.542</td>\n",
       "      <td>38873.890</td>\n",
       "      <td>119.3</td>\n",
       "      <td>8.26</td>\n",
       "      <td>516279</td>\n",
       "      <td>225.344</td>\n",
       "      <td>2</td>\n",
       "      <td>45</td>\n",
       "      <td>1</td>\n",
       "      <td>6.96750</td>\n",
       "    </tr>\n",
       "    <tr>\n",
       "      <th>4</th>\n",
       "      <td>72400</td>\n",
       "      <td>3.108212</td>\n",
       "      <td>59.36</td>\n",
       "      <td>0.542</td>\n",
       "      <td>39701.585</td>\n",
       "      <td>127.7</td>\n",
       "      <td>8.26</td>\n",
       "      <td>531448</td>\n",
       "      <td>225.792</td>\n",
       "      <td>2</td>\n",
       "      <td>55</td>\n",
       "      <td>0</td>\n",
       "      <td>6.96875</td>\n",
       "    </tr>\n",
       "    <tr>\n",
       "      <th>5</th>\n",
       "      <td>57400</td>\n",
       "      <td>3.072554</td>\n",
       "      <td>59.36</td>\n",
       "      <td>0.542</td>\n",
       "      <td>35718.650</td>\n",
       "      <td>132.2</td>\n",
       "      <td>7.26</td>\n",
       "      <td>498425</td>\n",
       "      <td>284.592</td>\n",
       "      <td>1</td>\n",
       "      <td>53</td>\n",
       "      <td>1</td>\n",
       "      <td>6.97000</td>\n",
       "    </tr>\n",
       "  </tbody>\n",
       "</table>\n",
       "</div>"
      ],
      "text/plain": [
       "   Collection  Marketin_expense  Production_expense  Multiplex_coverage  \\\n",
       "0       48000          3.050523               59.62               0.462   \n",
       "1       43200          3.070199               69.14               0.531   \n",
       "3       66800          3.074885               59.36               0.542   \n",
       "4       72400          3.108212               59.36               0.542   \n",
       "5       57400          3.072554               59.36               0.542   \n",
       "\n",
       "      Budget  Movie_length  Critic_rating  Trailer_views  Twitter_hastags  \\\n",
       "0  36524.125         138.7           7.94         527367          223.840   \n",
       "1  35668.655         152.4           7.44         494055          243.456   \n",
       "3  38873.890         119.3           8.26         516279          225.344   \n",
       "4  39701.585         127.7           8.26         531448          225.792   \n",
       "5  35718.650         132.2           7.26         498425          284.592   \n",
       "\n",
       "   Genre  Avg_age_actors  3D_available  avg_people_rating  \n",
       "0      3              23             1            7.95625  \n",
       "1      2              42             0            7.51625  \n",
       "3      2              45             1            6.96750  \n",
       "4      2              55             0            6.96875  \n",
       "5      1              53             1            6.97000  "
      ]
     },
     "execution_count": 39,
     "metadata": {},
     "output_type": "execute_result"
    }
   ],
   "source": [
    "new_df.head()"
   ]
  },
  {
   "cell_type": "code",
   "execution_count": 40,
   "metadata": {},
   "outputs": [],
   "source": [
    "train_data, test_data = np.split(new_df.sample(frac=1, random_state=1), [int(0.90*len(new_df))])\n",
    "test_data.drop(['Collection'], axis=1, inplace=True)\n",
    "# train_data.to_csv('train.csv')\n",
    "# test_data.to_csv('test.csv')"
   ]
  },
  {
   "cell_type": "code",
   "execution_count": 41,
   "metadata": {},
   "outputs": [
    {
     "name": "stdout",
     "output_type": "stream",
     "text": [
      "(330, 13) (37, 12)\n"
     ]
    }
   ],
   "source": [
    "print(train_data.shape, test_data.shape)"
   ]
  },
  {
   "cell_type": "code",
   "execution_count": 42,
   "metadata": {},
   "outputs": [],
   "source": [
    "train_data = pd.DataFrame(data=train_data, columns=new_df.columns)"
   ]
  },
  {
   "cell_type": "code",
   "execution_count": 43,
   "metadata": {},
   "outputs": [],
   "source": [
    "x = train_data.drop(['Collection'], axis=1)\n",
    "y = train_data['Collection']"
   ]
  },
  {
   "cell_type": "code",
   "execution_count": 44,
   "metadata": {},
   "outputs": [],
   "source": [
    "sc = StandardScaler()\n",
    "sc.fit(x)\n",
    "x = sc.transform(x)"
   ]
  },
  {
   "cell_type": "code",
   "execution_count": 45,
   "metadata": {},
   "outputs": [],
   "source": [
    "x_train, x_test, y_train, y_test = train_test_split(x, y, test_size=0.2, random_state=1)"
   ]
  },
  {
   "cell_type": "code",
   "execution_count": 46,
   "metadata": {},
   "outputs": [
    {
     "name": "stdout",
     "output_type": "stream",
     "text": [
      "Accuracy_score:  0.5212734525128375\n",
      "MSE:  94528508.82306835\n",
      "RMSE:  9722.577272671499\n",
      "MAE:  5812.806315555653\n"
     ]
    }
   ],
   "source": [
    "lg = LinearRegression()\n",
    "lg.fit(x_train, y_train)\n",
    "y_pred = lg.predict(x_test)\n",
    "print('Accuracy_score: ',lg.score(x_test, y_test))\n",
    "print('MSE: ',mean_squared_error(y_test, y_pred))\n",
    "print('RMSE: ',math.sqrt(mean_squared_error(y_test, y_pred)))\n",
    "print('MAE: ',mean_absolute_error(y_test, y_pred))"
   ]
  },
  {
   "cell_type": "code",
   "execution_count": 47,
   "metadata": {},
   "outputs": [
    {
     "name": "stdout",
     "output_type": "stream",
     "text": [
      "Accuracy_score:  -11.122158705712767\n",
      "MSE:  2393620308.258197\n",
      "RMSE:  48924.63907131249\n",
      "MAE:  46866.860540695445\n"
     ]
    }
   ],
   "source": [
    "svr = LinearSVR()\n",
    "svr.fit(x_train, y_train)\n",
    "y1_pred = svr.predict(x_test)\n",
    "print('Accuracy_score: ',svr.score(x_test, y_test))\n",
    "print('MSE: ',mean_squared_error(y_test, y1_pred))\n",
    "print('RMSE: ',math.sqrt(mean_squared_error(y_test, y1_pred)))\n",
    "print('MAE: ',mean_absolute_error(y_test, y1_pred))"
   ]
  },
  {
   "cell_type": "code",
   "execution_count": 48,
   "metadata": {},
   "outputs": [
    {
     "data": {
      "text/plain": [
       "0.5217039139980244"
      ]
     },
     "execution_count": 48,
     "metadata": {},
     "output_type": "execute_result"
    }
   ],
   "source": [
    "ridge = Ridge(alpha=0.5)\n",
    "ridge.fit(x_train, y_train)\n",
    "ridge.score(x_test, y_test)"
   ]
  },
  {
   "cell_type": "code",
   "execution_count": 49,
   "metadata": {},
   "outputs": [],
   "source": [
    "param_range = np.logspace(-2,8,100)\n",
    "train_scores, test_scores = validation_curve(Ridge(), x_train, y_train, 'alpha', param_range, scoring='r2')"
   ]
  },
  {
   "cell_type": "code",
   "execution_count": 50,
   "metadata": {
    "scrolled": true
   },
   "outputs": [
    {
     "name": "stdout",
     "output_type": "stream",
     "text": [
      "[[ 7.28557909e-01  7.45962756e-01  8.55600160e-01  7.40764971e-01\n",
      "   7.25537308e-01]\n",
      " [ 7.28556499e-01  7.45971302e-01  8.55599406e-01  7.40764813e-01\n",
      "   7.25540043e-01]\n",
      " [ 7.28554719e-01  7.45982083e-01  8.55598455e-01  7.40764613e-01\n",
      "   7.25543493e-01]\n",
      " [ 7.28552474e-01  7.45995683e-01  8.55597254e-01  7.40764359e-01\n",
      "   7.25547844e-01]\n",
      " [ 7.28549642e-01  7.46012837e-01  8.55595737e-01  7.40764036e-01\n",
      "   7.25553332e-01]\n",
      " [ 7.28546067e-01  7.46034473e-01  8.55593821e-01  7.40763624e-01\n",
      "   7.25560253e-01]\n",
      " [ 7.28541558e-01  7.46061759e-01  8.55591400e-01  7.40763099e-01\n",
      "   7.25568978e-01]\n",
      " [ 7.28535868e-01  7.46096163e-01  8.55588341e-01  7.40762428e-01\n",
      "   7.25579977e-01]\n",
      " [ 7.28528690e-01  7.46139534e-01  8.55584472e-01  7.40761565e-01\n",
      "   7.25593838e-01]\n",
      " [ 7.28519634e-01  7.46194197e-01  8.55579578e-01  7.40760453e-01\n",
      "   7.25611299e-01]\n",
      " [ 7.28508210e-01  7.46263068e-01  8.55573383e-01  7.40759012e-01\n",
      "   7.25633286e-01]\n",
      " [ 7.28493800e-01  7.46349807e-01  8.55565535e-01  7.40757135e-01\n",
      "   7.25660957e-01]\n",
      " [ 7.28475625e-01  7.46458995e-01  8.55555582e-01  7.40754671e-01\n",
      "   7.25695757e-01]\n",
      " [ 7.28452705e-01  7.46596353e-01  8.55542944e-01  7.40751414e-01\n",
      "   7.25739483e-01]\n",
      " [ 7.28423806e-01  7.46769012e-01  8.55526872e-01  7.40747068e-01\n",
      "   7.25794366e-01]\n",
      " [ 7.28387375e-01  7.46985828e-01  8.55506395e-01  7.40741214e-01\n",
      "   7.25863154e-01]\n",
      " [ 7.28341463e-01  7.47257747e-01  8.55480247e-01  7.40733245e-01\n",
      "   7.25949217e-01]\n",
      " [ 7.28283627e-01  7.47598232e-01  8.55446764e-01  7.40722279e-01\n",
      "   7.26056653e-01]\n",
      " [ 7.28210805e-01  7.48023718e-01  8.55403750e-01  7.40707024e-01\n",
      "   7.26190389e-01]\n",
      " [ 7.28119179e-01  7.48554086e-01  8.55348278e-01  7.40685581e-01\n",
      "   7.26356265e-01]\n",
      " [ 7.28004001e-01  7.49213099e-01  8.55276424e-01  7.40655150e-01\n",
      "   7.26561069e-01]\n",
      " [ 7.27859402e-01  7.50028714e-01  8.55182887e-01  7.40611612e-01\n",
      "   7.26812473e-01]\n",
      " [ 7.27678181e-01  7.51033129e-01  8.55060458e-01  7.40548934e-01\n",
      "   7.27118810e-01]\n",
      " [ 7.27451603e-01  7.52262358e-01  8.54899287e-01  7.40458350e-01\n",
      "   7.27488569e-01]\n",
      " [ 7.27169241e-01  7.53755039e-01  8.54685873e-01  7.40327281e-01\n",
      "   7.27929478e-01]\n",
      " [ 7.26818922e-01  7.55550077e-01  8.54401702e-01  7.40137968e-01\n",
      "   7.28446974e-01]\n",
      " [ 7.26386897e-01  7.57682662e-01  8.54021461e-01  7.39865874e-01\n",
      "   7.29041813e-01]\n",
      " [ 7.25858366e-01  7.60178171e-01  8.53510747e-01  7.39477993e-01\n",
      "   7.29706570e-01]\n",
      " [ 7.25218512e-01  7.63043578e-01  8.52823257e-01  7.38931334e-01\n",
      "   7.30420763e-01]\n",
      " [ 7.24454134e-01  7.66256293e-01  8.51897464e-01  7.38171925e-01\n",
      "   7.31144436e-01]\n",
      " [ 7.23555693e-01  7.69750899e-01  8.50652827e-01  7.37134667e-01\n",
      "   7.31810167e-01]\n",
      " [ 7.22519123e-01  7.73404924e-01  8.48985562e-01  7.35744028e-01\n",
      "   7.32313720e-01]\n",
      " [ 7.21345845e-01  7.77025448e-01  8.46763806e-01  7.33914857e-01\n",
      "   7.32503731e-01]\n",
      " [ 7.20038477e-01  7.80338482e-01  8.43821680e-01  7.31551627e-01\n",
      "   7.32171045e-01]\n",
      " [ 7.18588912e-01  7.82982488e-01  8.39951385e-01  7.28543549e-01\n",
      "   7.31038328e-01]\n",
      " [ 7.16955742e-01  7.84506049e-01  8.34892254e-01  7.24752944e-01\n",
      "   7.28750700e-01]\n",
      " [ 7.15030014e-01  7.84368543e-01  8.28316367e-01  7.19995706e-01\n",
      "   7.24868552e-01]\n",
      " [ 7.12592303e-01  7.81942937e-01  8.19812197e-01  7.14015795e-01\n",
      "   7.18864882e-01]\n",
      " [ 7.09269308e-01  7.76522642e-01  8.08871098e-01  7.06459765e-01\n",
      "   7.10131624e-01]\n",
      " [ 7.04502899e-01  7.67339095e-01  7.94885532e-01  6.96861029e-01\n",
      "   6.98001749e-01]\n",
      " [ 6.97546838e-01  7.53600836e-01  7.77171019e-01  6.84645182e-01\n",
      "   6.81794807e-01]\n",
      " [ 6.87504604e-01  7.34564275e-01  7.55023263e-01  6.69165882e-01\n",
      "   6.60890745e-01]\n",
      " [ 6.73415053e-01  7.09638373e-01  7.27815223e-01  6.49774962e-01\n",
      "   6.34828780e-01]\n",
      " [ 6.54381355e-01  6.78510415e-01  6.95125224e-01  6.25921127e-01\n",
      "   6.03416157e-01]\n",
      " [ 6.29724470e-01  6.41263591e-01  6.56869951e-01  5.97260870e-01\n",
      "   5.66820266e-01]\n",
      " [ 5.99129851e-01  5.98448313e-01  6.13403475e-01  5.63756870e-01\n",
      "   5.25613879e-01]\n",
      " [ 5.62750969e-01  5.51076034e-01  5.65544865e-01  5.25737846e-01\n",
      "   4.80752199e-01]\n",
      " [ 5.21240582e-01  5.00527254e-01  5.14516421e-01  4.83902218e-01\n",
      "   4.33480719e-01]\n",
      " [ 4.75699257e-01  4.48394206e-01  4.61804630e-01  4.39263299e-01\n",
      "   3.85195554e-01]\n",
      " [ 4.27552866e-01  3.96298765e-01  4.08981371e-01  3.93048957e-01\n",
      "   3.37291167e-01]\n",
      " [ 3.78387140e-01  3.45727892e-01  3.57530565e-01  3.46577081e-01\n",
      "   2.91028573e-01]\n",
      " [ 3.29773104e-01  2.97915015e-01  3.08714702e-01  3.01128669e-01\n",
      "   2.47443704e-01]\n",
      " [ 2.83113708e-01  2.53776559e-01  2.63496089e-01  2.57836516e-01\n",
      "   2.07300179e-01]\n",
      " [ 2.39533096e-01  2.13898098e-01  2.22510612e-01  2.17602838e-01\n",
      "   1.71080496e-01]\n",
      " [ 1.99818855e-01  1.78557806e-01  1.86082677e-01  1.81053948e-01\n",
      "   1.39005898e-01]\n",
      " [ 1.64416191e-01  1.47773729e-01  1.54267624e-01  1.48533594e-01\n",
      "   1.11075217e-01]\n",
      " [ 1.33463595e-01  1.21362983e-01  1.26908943e-01  1.20129477e-01\n",
      "   8.71140213e-02]\n",
      " [ 1.06854269e-01  9.90031385e-02  1.03699780e-01  9.57220912e-02\n",
      "   6.68265345e-02]\n",
      " [ 8.43071001e-02  8.02886062e-02  8.42407645e-02  7.50432194e-02\n",
      "   4.98441721e-02]\n",
      " [ 6.54343608e-02  6.47775004e-02  6.80889778e-02  5.77331513e-02\n",
      "   3.57664982e-02]\n",
      " [ 4.97982611e-02  5.20270704e-02  5.47956099e-02  4.33894030e-02\n",
      "   2.41925624e-02]\n",
      " [ 3.69532858e-02  4.16178844e-02  4.39321452e-02  3.16037237e-02\n",
      "   1.47424900e-02]\n",
      " [ 2.64746346e-02  3.31683076e-02  3.51064383e-02  2.19872404e-02\n",
      "   7.07050923e-03]\n",
      " [ 1.79749793e-02  2.63414239e-02  2.79707902e-02  1.41854106e-02\n",
      "   8.71233534e-04]\n",
      " [ 1.11124052e-02  2.08465964e-02  2.22242611e-02  7.88516403e-03\n",
      "  -4.11888282e-03]\n",
      " [ 5.59228450e-03  1.64375717e-02  1.76112071e-02  2.81660793e-03\n",
      "  -8.12321842e-03]\n",
      " [ 1.16535317e-03  1.29086129e-02  1.39176134e-02 -1.24870168e-03\n",
      "  -1.13284544e-02]\n",
      " [-2.37631620e-03  1.00897215e-02  1.09663602e-02 -4.50140753e-03\n",
      "  -1.38888811e-02]\n",
      " [-5.20427876e-03  7.84164838e-03  8.61218319e-03 -7.09886381e-03\n",
      "  -1.59309059e-02]\n",
      " [-7.45887437e-03  6.05111361e-03  6.73679253e-03 -9.16983523e-03\n",
      "  -1.75573779e-02]\n",
      " [-9.25414047e-03  4.62646399e-03  5.24440673e-03 -1.08189820e-02\n",
      "  -1.88515216e-02]\n",
      " [-1.06822550e-02  3.49386294e-03  4.05781581e-03 -1.21309211e-02\n",
      "  -1.98803901e-02]\n",
      " [-1.18174182e-02  2.59402969e-03  3.11500037e-03 -1.31737791e-02\n",
      "  -2.06978222e-02]\n",
      " [-1.27191640e-02  1.87949828e-03  2.36628242e-03 -1.40022247e-02\n",
      "  -2.13469293e-02]\n",
      " [-1.34351358e-02  1.31234411e-03  1.77195784e-03 -1.46600131e-02\n",
      "  -2.18621584e-02]\n",
      " [-1.40033836e-02  8.62317333e-04  1.30034971e-03 -1.51820921e-02\n",
      "  -2.22709868e-02]\n",
      " [-1.44542466e-02  5.05322134e-04  9.26220643e-04 -1.55963299e-02\n",
      "  -2.25953023e-02]\n",
      " [-1.48118852e-02  2.22185192e-04  6.29485870e-04 -1.59249203e-02\n",
      "  -2.28525219e-02]\n",
      " [-1.50955199e-02 -2.33706873e-06  3.94175275e-04 -1.61855200e-02\n",
      "  -2.30564930e-02]\n",
      " [-1.53204289e-02 -1.80355808e-04  2.07599238e-04 -1.63921649e-02\n",
      "  -2.32182176e-02]\n",
      " [-1.54987493e-02 -3.21488356e-04  5.96803191e-05 -1.65560055e-02\n",
      "  -2.33464326e-02]\n",
      " [-1.56401179e-02 -4.33368516e-04 -5.75809778e-05 -1.66858954e-02\n",
      "  -2.34480728e-02]\n",
      " [-1.57521831e-02 -5.22053639e-04 -1.50532480e-04 -1.67888618e-02\n",
      "  -2.35286411e-02]\n",
      " [-1.58410137e-02 -5.92348912e-04 -2.24209990e-04 -1.68704802e-02\n",
      "  -2.35925027e-02]\n",
      " [-1.59114235e-02 -6.48065400e-04 -2.82607602e-04 -1.69351736e-02\n",
      "  -2.36431198e-02]\n",
      " [-1.59672303e-02 -6.92225222e-04 -3.28892644e-04 -1.69864496e-02\n",
      "  -2.36832380e-02]\n",
      " [-1.60114614e-02 -7.27224553e-04 -3.65576475e-04 -1.70270898e-02\n",
      "  -2.37150342e-02]\n",
      " [-1.60465170e-02 -7.54963078e-04 -3.94650126e-04 -1.70592994e-02\n",
      "  -2.37402341e-02]\n",
      " [-1.60743000e-02 -7.76946737e-04 -4.17691966e-04 -1.70848269e-02\n",
      "  -2.37602057e-02]\n",
      " [-1.60963188e-02 -7.94369260e-04 -4.35953155e-04 -1.71050582e-02\n",
      "  -2.37760338e-02]\n",
      " [-1.61137692e-02 -8.08176845e-04 -4.50425415e-04 -1.71210919e-02\n",
      "  -2.37885777e-02]\n",
      " [-1.61275988e-02 -8.19119456e-04 -4.61894797e-04 -1.71337988e-02\n",
      "  -2.37985188e-02]\n",
      " [-1.61385588e-02 -8.27791497e-04 -4.70984316e-04 -1.71438691e-02\n",
      "  -2.38063972e-02]\n",
      " [-1.61472447e-02 -8.34664075e-04 -4.78187747e-04 -1.71518499e-02\n",
      "  -2.38126408e-02]\n",
      " [-1.61541282e-02 -8.40110557e-04 -4.83896434e-04 -1.71581746e-02\n",
      "  -2.38175888e-02]\n",
      " [-1.61595833e-02 -8.44426854e-04 -4.88420527e-04 -1.71631869e-02\n",
      "  -2.38215101e-02]\n",
      " [-1.61639065e-02 -8.47847478e-04 -4.92005829e-04 -1.71671591e-02\n",
      "  -2.38246177e-02]\n",
      " [-1.61673325e-02 -8.50558285e-04 -4.94847142e-04 -1.71703070e-02\n",
      "  -2.38270804e-02]\n",
      " [-1.61700477e-02 -8.52706565e-04 -4.97098848e-04 -1.71728017e-02\n",
      "  -2.38290320e-02]\n",
      " [-1.61721994e-02 -8.54409049e-04 -4.98883295e-04 -1.71747787e-02\n",
      "  -2.38305787e-02]]\n"
     ]
    }
   ],
   "source": [
    "print(test_scores)"
   ]
  },
  {
   "cell_type": "code",
   "execution_count": 51,
   "metadata": {},
   "outputs": [],
   "source": [
    "test_mean = np.mean(test_scores, axis=1)"
   ]
  },
  {
   "cell_type": "code",
   "execution_count": 52,
   "metadata": {},
   "outputs": [
    {
     "data": {
      "text/plain": [
       "0.7625934714205117"
      ]
     },
     "execution_count": 52,
     "metadata": {},
     "output_type": "execute_result"
    }
   ],
   "source": [
    "max(test_mean)"
   ]
  },
  {
   "cell_type": "code",
   "execution_count": 53,
   "metadata": {},
   "outputs": [
    {
     "data": {
      "text/plain": [
       "<seaborn.axisgrid.JointGrid at 0x7f01e68b88d0>"
      ]
     },
     "execution_count": 53,
     "metadata": {},
     "output_type": "execute_result"
    },
    {
     "data": {
      "image/png": "[encoded data removed]",
      "text/plain": [
       "<Figure size 432x432 with 3 Axes>"
      ]
     },
     "metadata": {
      "needs_background": "light"
     },
     "output_type": "display_data"
    }
   ],
   "source": [
    "sns.jointplot(x=np.log(param_range), y=test_mean)"
   ]
  },
  {
   "cell_type": "code",
   "execution_count": 54,
   "metadata": {},
   "outputs": [
    {
     "data": {
      "text/plain": [
       "(array([31]),)"
      ]
     },
     "execution_count": 54,
     "metadata": {},
     "output_type": "execute_result"
    }
   ],
   "source": [
    "np.where(test_mean==max(test_mean))"
   ]
  },
  {
   "cell_type": "code",
   "execution_count": 55,
   "metadata": {},
   "outputs": [
    {
     "data": {
      "text/plain": [
       "34.30469286314919"
      ]
     },
     "execution_count": 55,
     "metadata": {},
     "output_type": "execute_result"
    }
   ],
   "source": [
    "param_range[35]"
   ]
  },
  {
   "cell_type": "code",
   "execution_count": 56,
   "metadata": {},
   "outputs": [
    {
     "data": {
      "text/plain": [
       "0.5325265808846648"
      ]
     },
     "execution_count": 56,
     "metadata": {},
     "output_type": "execute_result"
    }
   ],
   "source": [
    "ridge_best = Ridge(alpha = param_range[35])\n",
    "ridge_best.fit(x_train, y_train)\n",
    "r2_score(y_test, ridge_best.predict(x_test))"
   ]
  },
  {
   "cell_type": "code",
   "execution_count": 57,
   "metadata": {},
   "outputs": [
    {
     "data": {
      "text/plain": [
       "0.5212652331166048"
      ]
     },
     "execution_count": 57,
     "metadata": {},
     "output_type": "execute_result"
    }
   ],
   "source": [
    "lasso = Lasso(alpha = 0.5)\n",
    "lasso.fit(x_train, y_train)\n",
    "r2_score(y_test, lasso.predict(x_test))"
   ]
  },
  {
   "cell_type": "code",
   "execution_count": 58,
   "metadata": {},
   "outputs": [],
   "source": [
    "train_scores1, test_scores1 = validation_curve(Lasso(), x_train, y_train, 'alpha', param_range, scoring='r2')"
   ]
  },
  {
   "cell_type": "code",
   "execution_count": 59,
   "metadata": {
    "scrolled": true
   },
   "outputs": [
    {
     "data": {
      "text/plain": [
       "array([[ 7.28562787e-01,  7.45930071e-01,  8.55603334e-01,\n",
       "         7.40765771e-01,  7.25527401e-01],\n",
       "       [ 7.28562657e-01,  7.45930063e-01,  8.55603289e-01,\n",
       "         7.40765823e-01,  7.25527548e-01],\n",
       "       [ 7.28562492e-01,  7.45930053e-01,  8.55603309e-01,\n",
       "         7.40765889e-01,  7.25527728e-01],\n",
       "       [ 7.28562285e-01,  7.45930041e-01,  8.55603480e-01,\n",
       "         7.40765972e-01,  7.25527953e-01],\n",
       "       [ 7.28562024e-01,  7.45930026e-01,  8.55603694e-01,\n",
       "         7.40766077e-01,  7.25528234e-01],\n",
       "       [ 7.28561694e-01,  7.45930349e-01,  8.55603965e-01,\n",
       "         7.40766209e-01,  7.25528588e-01],\n",
       "       [ 7.28561281e-01,  7.45930402e-01,  8.55604307e-01,\n",
       "         7.40766378e-01,  7.25529032e-01],\n",
       "       [ 7.28560756e-01,  7.45930371e-01,  8.55604738e-01,\n",
       "         7.40766589e-01,  7.25529596e-01],\n",
       "       [ 7.28560812e-01,  7.45930331e-01,  8.55605138e-01,\n",
       "         7.40766854e-01,  7.25530309e-01],\n",
       "       [ 7.28560128e-01,  7.45930281e-01,  8.55605824e-01,\n",
       "         7.40767192e-01,  7.25531198e-01],\n",
       "       [ 7.28559072e-01,  7.45930217e-01,  8.55606690e-01,\n",
       "         7.40767614e-01,  7.25530983e-01],\n",
       "       [ 7.28557739e-01,  7.45930137e-01,  8.55607783e-01,\n",
       "         7.40768147e-01,  7.25532583e-01],\n",
       "       [ 7.28556057e-01,  7.45930035e-01,  8.55609162e-01,\n",
       "         7.40768822e-01,  7.25534389e-01],\n",
       "       [ 7.28553933e-01,  7.45929882e-01,  8.55610901e-01,\n",
       "         7.40769669e-01,  7.25536668e-01],\n",
       "       [ 7.28551253e-01,  7.45929720e-01,  8.55613096e-01,\n",
       "         7.40770741e-01,  7.25539543e-01],\n",
       "       [ 7.28547870e-01,  7.45929514e-01,  8.55615688e-01,\n",
       "         7.40772086e-01,  7.25543170e-01],\n",
       "       [ 7.28543598e-01,  7.45929254e-01,  8.55619180e-01,\n",
       "         7.40773780e-01,  7.25547745e-01],\n",
       "       [ 7.28538138e-01,  7.45928924e-01,  8.55623583e-01,\n",
       "         7.40775918e-01,  7.25554017e-01],\n",
       "       [ 7.28531327e-01,  7.45928505e-01,  8.55628930e-01,\n",
       "         7.40778607e-01,  7.25561297e-01],\n",
       "       [ 7.28522724e-01,  7.45927973e-01,  8.55635932e-01,\n",
       "         7.40781980e-01,  7.25570478e-01],\n",
       "       [ 7.28511853e-01,  7.45927183e-01,  8.55644759e-01,\n",
       "         7.40786221e-01,  7.25582057e-01],\n",
       "       [ 7.28498114e-01,  7.45926317e-01,  8.55655653e-01,\n",
       "         7.40791534e-01,  7.25596655e-01],\n",
       "       [ 7.28480482e-01,  7.45925209e-01,  8.55669667e-01,\n",
       "         7.40798191e-01,  7.25615058e-01],\n",
       "       [ 7.28458504e-01,  7.45923785e-01,  8.55687074e-01,\n",
       "         7.40806503e-01,  7.25639241e-01],\n",
       "       [ 7.28430681e-01,  7.45921698e-01,  8.55709286e-01,\n",
       "         7.40816855e-01,  7.25668453e-01],\n",
       "       [ 7.28394865e-01,  7.45919315e-01,  8.55736998e-01,\n",
       "         7.40829717e-01,  7.25705237e-01],\n",
       "       [ 7.28350153e-01,  7.45915750e-01,  8.55772105e-01,\n",
       "         7.40845593e-01,  7.25753221e-01],\n",
       "       [ 7.28292348e-01,  7.45904640e-01,  8.55816004e-01,\n",
       "         7.40865006e-01,  7.25811436e-01],\n",
       "       [ 7.28220113e-01,  7.45889790e-01,  8.55871190e-01,\n",
       "         7.40888511e-01,  7.25884583e-01],\n",
       "       [ 7.28126361e-01,  7.45870053e-01,  8.55940308e-01,\n",
       "         7.40916925e-01,  7.25979002e-01],\n",
       "       [ 7.28008698e-01,  7.45845323e-01,  8.56026735e-01,\n",
       "         7.40950943e-01,  7.26094043e-01],\n",
       "       [ 7.27855282e-01,  7.45812179e-01,  8.56134586e-01,\n",
       "         7.40990116e-01,  7.26241740e-01],\n",
       "       [ 7.27661219e-01,  7.45770052e-01,  8.56268665e-01,\n",
       "         7.41034587e-01,  7.26421300e-01],\n",
       "       [ 7.27406514e-01,  7.45712980e-01,  8.56432903e-01,\n",
       "         7.41082132e-01,  7.26649883e-01],\n",
       "       [ 7.27080493e-01,  7.45638922e-01,  8.56635747e-01,\n",
       "         7.41128482e-01,  7.26926645e-01],\n",
       "       [ 7.26654063e-01,  7.45537114e-01,  8.56882664e-01,\n",
       "         7.41164480e-01,  7.27267809e-01],\n",
       "       [ 7.26092025e-01,  7.45401479e-01,  8.57179623e-01,\n",
       "         7.41176072e-01,  7.27692087e-01],\n",
       "       [ 7.25344688e-01,  7.45211467e-01,  8.57530806e-01,\n",
       "         7.41205271e-01,  7.28198289e-01],\n",
       "       [ 7.24340949e-01,  7.44950588e-01,  8.57928796e-01,\n",
       "         7.41282147e-01,  7.28705211e-01],\n",
       "       [ 7.23209679e-01,  7.44581627e-01,  8.58370154e-01,\n",
       "         7.41231617e-01,  7.29288920e-01],\n",
       "       [ 7.21734270e-01,  7.44052729e-01,  8.58826255e-01,\n",
       "         7.40636278e-01,  7.29942453e-01],\n",
       "       [ 7.19660292e-01,  7.43288514e-01,  8.59344050e-01,\n",
       "         7.39608935e-01,  7.30634795e-01],\n",
       "       [ 7.16705375e-01,  7.42158940e-01,  8.59867272e-01,\n",
       "         7.38114154e-01,  7.31297732e-01],\n",
       "       [ 7.12438881e-01,  7.40506777e-01,  8.60120950e-01,\n",
       "         7.35577569e-01,  7.31951721e-01],\n",
       "       [ 7.06202004e-01,  7.38121305e-01,  8.59793619e-01,\n",
       "         7.31341052e-01,  7.32438974e-01],\n",
       "       [ 6.99798313e-01,  7.35164242e-01,  8.57971340e-01,\n",
       "         7.25545408e-01,  7.32433382e-01],\n",
       "       [ 6.93333285e-01,  7.33237894e-01,  8.55568194e-01,\n",
       "         7.19958050e-01,  7.32515181e-01],\n",
       "       [ 6.92421059e-01,  7.32685984e-01,  8.51368329e-01,\n",
       "         7.12167902e-01,  7.32208712e-01],\n",
       "       [ 6.92724317e-01,  7.30471114e-01,  8.46212963e-01,\n",
       "         7.09776164e-01,  7.30258232e-01],\n",
       "       [ 6.95288614e-01,  7.26386861e-01,  8.40481764e-01,\n",
       "         7.08826381e-01,  7.24937590e-01],\n",
       "       [ 6.94158504e-01,  7.17281208e-01,  8.32248844e-01,\n",
       "         7.05929950e-01,  7.15720065e-01],\n",
       "       [ 6.90649997e-01,  7.14581114e-01,  8.20645448e-01,\n",
       "         6.99565724e-01,  7.02288117e-01],\n",
       "       [ 6.84868451e-01,  7.12288816e-01,  8.09230384e-01,\n",
       "         6.93230307e-01,  6.89159686e-01],\n",
       "       [ 6.79185380e-01,  7.06433973e-01,  7.92993837e-01,\n",
       "         6.86314617e-01,  6.74135720e-01],\n",
       "       [ 6.71522595e-01,  6.94347261e-01,  7.73247221e-01,\n",
       "         6.73733738e-01,  6.59325380e-01],\n",
       "       [ 6.62892183e-01,  6.75193171e-01,  7.51366164e-01,\n",
       "         6.54428514e-01,  6.36739834e-01],\n",
       "       [ 6.42744719e-01,  6.53250336e-01,  7.18887258e-01,\n",
       "         6.23413921e-01,  6.02038361e-01],\n",
       "       [ 6.02594812e-01,  6.18805778e-01,  6.70136417e-01,\n",
       "         5.78454394e-01,  5.54379183e-01],\n",
       "       [ 5.47411281e-01,  5.56724049e-01,  5.96458742e-01,\n",
       "         5.24434353e-01,  4.86150225e-01],\n",
       "       [ 4.61881363e-01,  4.48741266e-01,  4.84601329e-01,\n",
       "         4.41011402e-01,  3.78850791e-01],\n",
       "       [ 3.25621797e-01,  2.65279977e-01,  3.12948118e-01,\n",
       "         3.11449499e-01,  2.09691096e-01],\n",
       "       [ 1.08567501e-01, -8.60910697e-04,  4.77734882e-02,\n",
       "         1.09277876e-01, -2.38364853e-02],\n",
       "       [-1.61804165e-02, -8.60910697e-04, -5.05697957e-04,\n",
       "        -1.71823288e-02, -2.38364853e-02],\n",
       "       [-1.61804165e-02, -8.60910697e-04, -5.05697957e-04,\n",
       "        -1.71823288e-02, -2.38364853e-02],\n",
       "       [-1.61804165e-02, -8.60910697e-04, -5.05697957e-04,\n",
       "        -1.71823288e-02, -2.38364853e-02],\n",
       "       [-1.61804165e-02, -8.60910697e-04, -5.05697957e-04,\n",
       "        -1.71823288e-02, -2.38364853e-02],\n",
       "       [-1.61804165e-02, -8.60910697e-04, -5.05697957e-04,\n",
       "        -1.71823288e-02, -2.38364853e-02],\n",
       "       [-1.61804165e-02, -8.60910697e-04, -5.05697957e-04,\n",
       "        -1.71823288e-02, -2.38364853e-02],\n",
       "       [-1.61804165e-02, -8.60910697e-04, -5.05697957e-04,\n",
       "        -1.71823288e-02, -2.38364853e-02],\n",
       "       [-1.61804165e-02, -8.60910697e-04, -5.05697957e-04,\n",
       "        -1.71823288e-02, -2.38364853e-02],\n",
       "       [-1.61804165e-02, -8.60910697e-04, -5.05697957e-04,\n",
       "        -1.71823288e-02, -2.38364853e-02],\n",
       "       [-1.61804165e-02, -8.60910697e-04, -5.05697957e-04,\n",
       "        -1.71823288e-02, -2.38364853e-02],\n",
       "       [-1.61804165e-02, -8.60910697e-04, -5.05697957e-04,\n",
       "        -1.71823288e-02, -2.38364853e-02],\n",
       "       [-1.61804165e-02, -8.60910697e-04, -5.05697957e-04,\n",
       "        -1.71823288e-02, -2.38364853e-02],\n",
       "       [-1.61804165e-02, -8.60910697e-04, -5.05697957e-04,\n",
       "        -1.71823288e-02, -2.38364853e-02],\n",
       "       [-1.61804165e-02, -8.60910697e-04, -5.05697957e-04,\n",
       "        -1.71823288e-02, -2.38364853e-02],\n",
       "       [-1.61804165e-02, -8.60910697e-04, -5.05697957e-04,\n",
       "        -1.71823288e-02, -2.38364853e-02],\n",
       "       [-1.61804165e-02, -8.60910697e-04, -5.05697957e-04,\n",
       "        -1.71823288e-02, -2.38364853e-02],\n",
       "       [-1.61804165e-02, -8.60910697e-04, -5.05697957e-04,\n",
       "        -1.71823288e-02, -2.38364853e-02],\n",
       "       [-1.61804165e-02, -8.60910697e-04, -5.05697957e-04,\n",
       "        -1.71823288e-02, -2.38364853e-02],\n",
       "       [-1.61804165e-02, -8.60910697e-04, -5.05697957e-04,\n",
       "        -1.71823288e-02, -2.38364853e-02],\n",
       "       [-1.61804165e-02, -8.60910697e-04, -5.05697957e-04,\n",
       "        -1.71823288e-02, -2.38364853e-02],\n",
       "       [-1.61804165e-02, -8.60910697e-04, -5.05697957e-04,\n",
       "        -1.71823288e-02, -2.38364853e-02],\n",
       "       [-1.61804165e-02, -8.60910697e-04, -5.05697957e-04,\n",
       "        -1.71823288e-02, -2.38364853e-02],\n",
       "       [-1.61804165e-02, -8.60910697e-04, -5.05697957e-04,\n",
       "        -1.71823288e-02, -2.38364853e-02],\n",
       "       [-1.61804165e-02, -8.60910697e-04, -5.05697957e-04,\n",
       "        -1.71823288e-02, -2.38364853e-02],\n",
       "       [-1.61804165e-02, -8.60910697e-04, -5.05697957e-04,\n",
       "        -1.71823288e-02, -2.38364853e-02],\n",
       "       [-1.61804165e-02, -8.60910697e-04, -5.05697957e-04,\n",
       "        -1.71823288e-02, -2.38364853e-02],\n",
       "       [-1.61804165e-02, -8.60910697e-04, -5.05697957e-04,\n",
       "        -1.71823288e-02, -2.38364853e-02],\n",
       "       [-1.61804165e-02, -8.60910697e-04, -5.05697957e-04,\n",
       "        -1.71823288e-02, -2.38364853e-02],\n",
       "       [-1.61804165e-02, -8.60910697e-04, -5.05697957e-04,\n",
       "        -1.71823288e-02, -2.38364853e-02],\n",
       "       [-1.61804165e-02, -8.60910697e-04, -5.05697957e-04,\n",
       "        -1.71823288e-02, -2.38364853e-02],\n",
       "       [-1.61804165e-02, -8.60910697e-04, -5.05697957e-04,\n",
       "        -1.71823288e-02, -2.38364853e-02],\n",
       "       [-1.61804165e-02, -8.60910697e-04, -5.05697957e-04,\n",
       "        -1.71823288e-02, -2.38364853e-02],\n",
       "       [-1.61804165e-02, -8.60910697e-04, -5.05697957e-04,\n",
       "        -1.71823288e-02, -2.38364853e-02],\n",
       "       [-1.61804165e-02, -8.60910697e-04, -5.05697957e-04,\n",
       "        -1.71823288e-02, -2.38364853e-02],\n",
       "       [-1.61804165e-02, -8.60910697e-04, -5.05697957e-04,\n",
       "        -1.71823288e-02, -2.38364853e-02],\n",
       "       [-1.61804165e-02, -8.60910697e-04, -5.05697957e-04,\n",
       "        -1.71823288e-02, -2.38364853e-02],\n",
       "       [-1.61804165e-02, -8.60910697e-04, -5.05697957e-04,\n",
       "        -1.71823288e-02, -2.38364853e-02],\n",
       "       [-1.61804165e-02, -8.60910697e-04, -5.05697957e-04,\n",
       "        -1.71823288e-02, -2.38364853e-02]])"
      ]
     },
     "execution_count": 59,
     "metadata": {},
     "output_type": "execute_result"
    }
   ],
   "source": [
    "test_scores1"
   ]
  },
  {
   "cell_type": "code",
   "execution_count": 60,
   "metadata": {},
   "outputs": [],
   "source": [
    "test_mean1 = np.mean(test_scores1, axis=1)"
   ]
  },
  {
   "cell_type": "code",
   "execution_count": 61,
   "metadata": {},
   "outputs": [
    {
     "data": {
      "text/plain": [
       "0.759508257204451"
      ]
     },
     "execution_count": 61,
     "metadata": {},
     "output_type": "execute_result"
    }
   ],
   "source": [
    "max(test_mean1)"
   ]
  },
  {
   "cell_type": "code",
   "execution_count": 62,
   "metadata": {},
   "outputs": [
    {
     "data": {
      "text/plain": [
       "(array([36]),)"
      ]
     },
     "execution_count": 62,
     "metadata": {},
     "output_type": "execute_result"
    }
   ],
   "source": [
    "np.where(test_mean1==max(test_mean1))"
   ]
  },
  {
   "cell_type": "code",
   "execution_count": 63,
   "metadata": {},
   "outputs": [
    {
     "data": {
      "text/plain": [
       "<seaborn.axisgrid.JointGrid at 0x7f01e5ca4090>"
      ]
     },
     "execution_count": 63,
     "metadata": {},
     "output_type": "execute_result"
    },
    {
     "data": {
      "image/png": "[encoded data removed]",
      "text/plain": [
       "<Figure size 432x432 with 3 Axes>"
      ]
     },
     "metadata": {
      "needs_background": "light"
     },
     "output_type": "display_data"
    }
   ],
   "source": [
    "sns.jointplot(x=np.log(param_range), y=test_mean1)"
   ]
  },
  {
   "cell_type": "code",
   "execution_count": 64,
   "metadata": {},
   "outputs": [
    {
     "data": {
      "text/plain": [
       "443.06214575838777"
      ]
     },
     "execution_count": 64,
     "metadata": {},
     "output_type": "execute_result"
    }
   ],
   "source": [
    "param_range[46]"
   ]
  },
  {
   "cell_type": "code",
   "execution_count": 65,
   "metadata": {},
   "outputs": [
    {
     "data": {
      "text/plain": [
       "0.48697518283147656"
      ]
     },
     "execution_count": 65,
     "metadata": {},
     "output_type": "execute_result"
    }
   ],
   "source": [
    "lasso_best = Lasso(alpha = param_range[46])\n",
    "lasso_best.fit(x_train, y_train)\n",
    "r2_score(y_test, lasso_best.predict(x_test))"
   ]
  },
  {
   "cell_type": "code",
   "execution_count": 66,
   "metadata": {},
   "outputs": [],
   "source": [
    "elasticnet = ElasticNet()"
   ]
  },
  {
   "cell_type": "code",
   "execution_count": 67,
   "metadata": {},
   "outputs": [],
   "source": [
    "train_scores2, test_scores2 = validation_curve(elasticnet, x_train, y_train, 'alpha', param_range, scoring='r2')"
   ]
  },
  {
   "cell_type": "code",
   "execution_count": 68,
   "metadata": {},
   "outputs": [],
   "source": [
    "test_mean2 = np.mean(test_scores2, axis=1)"
   ]
  },
  {
   "cell_type": "code",
   "execution_count": 69,
   "metadata": {},
   "outputs": [
    {
     "data": {
      "text/plain": [
       "(array([11]),)"
      ]
     },
     "execution_count": 69,
     "metadata": {},
     "output_type": "execute_result"
    }
   ],
   "source": [
    "np.where(test_mean2==max(test_mean2))"
   ]
  },
  {
   "cell_type": "code",
   "execution_count": 70,
   "metadata": {},
   "outputs": [
    {
     "name": "stdout",
     "output_type": "stream",
     "text": [
      "Accuracy score:  0.5309788880783274\n",
      "MSE:  92612090.44957355\n",
      "RMSE:  9623.517571531396\n",
      "MAE:  5738.502068846722\n"
     ]
    }
   ],
   "source": [
    "elasticnet_best = ElasticNet(alpha=param_range[14], l1_ratio=0.7)\n",
    "elasticnet_best.fit(x_train, y_train)\n",
    "print('Accuracy score: ', elasticnet_best.score(x_test, y_test))\n",
    "print('MSE: ',mean_squared_error(y_test, elasticnet_best.predict(x_test)))\n",
    "print('RMSE: ',math.sqrt(mean_squared_error(y_test, elasticnet_best.predict(x_test))))\n",
    "print('MAE: ',mean_absolute_error(y_test, elasticnet_best.predict(x_test)))"
   ]
  },
  {
   "cell_type": "code",
   "execution_count": 71,
   "metadata": {},
   "outputs": [
    {
     "name": "stdout",
     "output_type": "stream",
     "text": [
      "Accuracy score:  0.5212734525128402\n",
      "MSE:  94528508.82306783\n",
      "RMSE:  9722.577272671471\n",
      "MAE:  5812.806315555659\n"
     ]
    }
   ],
   "source": [
    "model = Lars()\n",
    "model.fit(x_train, y_train)\n",
    "y_prediction = model.predict(x_test)\n",
    "print('Accuracy score: ',model.score(x_test, y_test))\n",
    "print('MSE: ',mean_squared_error(y_test, y_prediction))\n",
    "print('RMSE: ',math.sqrt(mean_squared_error(y_test, y_prediction)))\n",
    "print('MAE: ',mean_absolute_error(y_test, y_prediction))"
   ]
  },
  {
   "cell_type": "code",
   "execution_count": 72,
   "metadata": {},
   "outputs": [
    {
     "name": "stdout",
     "output_type": "stream",
     "text": [
      "Accuracy score:  0.7097634109438199\n",
      "MSE:  57309610.49347299\n",
      "RMSE:  7570.311122633798\n",
      "MAE:  4292.211795691288\n"
     ]
    }
   ],
   "source": [
    "xgb_r = xgb.XGBRegressor()\n",
    "xgb_r.fit(x_train, y_train)\n",
    "y2_prediction = xgb_r.predict(x_test)\n",
    "print('Accuracy score: ',xgb_r.score(x_test, y_test))\n",
    "print('MSE: ',mean_squared_error(y_test, y2_prediction))\n",
    "print('RMSE: ',math.sqrt(mean_squared_error(y_test, y2_prediction)))\n",
    "print('MAE: ',mean_absolute_error(y_test, y2_prediction))"
   ]
  },
  {
   "cell_type": "code",
   "execution_count": 73,
   "metadata": {},
   "outputs": [
    {
     "name": "stdout",
     "output_type": "stream",
     "text": [
      "Accuracy score:  0.6338364022579499\n",
      "MSE:  72302025.15721987\n",
      "RMSE:  8503.059752654915\n",
      "MAE:  5005.033014655215\n"
     ]
    }
   ],
   "source": [
    "ada_r = AdaBoostRegressor()\n",
    "ada_r.fit(x_train, y_train)\n",
    "y3_prediction = ada_r.predict(x_test)\n",
    "print('Accuracy score: ',ada_r.score(x_test, y_test))\n",
    "print('MSE: ',mean_squared_error(y_test, y3_prediction))\n",
    "print('RMSE: ',math.sqrt(mean_squared_error(y_test, y3_prediction)))\n",
    "print('MAE: ',mean_absolute_error(y_test, y3_prediction))"
   ]
  },
  {
   "cell_type": "code",
   "execution_count": 74,
   "metadata": {},
   "outputs": [
    {
     "name": "stdout",
     "output_type": "stream",
     "text": [
      "Accuracy score:  0.7044604983141012\n",
      "MSE:  58356714.369239904\n",
      "RMSE:  7639.1566530108485\n",
      "MAE:  4413.817798584852\n"
     ]
    }
   ],
   "source": [
    "gbr = GradientBoostingRegressor()\n",
    "gbr.fit(x_train, y_train)\n",
    "gbr_prediction = gbr.predict(x_test)\n",
    "print('Accuracy score: ',r2_score(y_test, gbr_prediction))\n",
    "print('MSE: ',mean_squared_error(y_test, gbr_prediction))\n",
    "print('RMSE: ',math.sqrt(mean_squared_error(y_test, gbr_prediction)))\n",
    "print('MAE: ',mean_absolute_error(y_test, gbr_prediction))"
   ]
  },
  {
   "cell_type": "code",
   "execution_count": 75,
   "metadata": {},
   "outputs": [
    {
     "name": "stdout",
     "output_type": "stream",
     "text": [
      "alpha: 2.449308\n"
     ]
    }
   ],
   "source": [
    "cv = RepeatedKFold(n_splits=10, n_repeats=3, random_state=1)\n",
    "model = LarsCV(cv=cv, n_jobs=-1)\n",
    "model.fit(x_train, y_train)\n",
    "print('alpha: %f'%model.alpha_)"
   ]
  },
  {
   "cell_type": "code",
   "execution_count": 76,
   "metadata": {},
   "outputs": [
    {
     "name": "stdout",
     "output_type": "stream",
     "text": [
      "Accuracy score:  0.5232476212203793\n"
     ]
    }
   ],
   "source": [
    "model_one = Ridge(alpha = model.alpha_)\n",
    "model_one.fit(x_train, y_train)\n",
    "y4_prediction = model_one.predict(x_test)\n",
    "print('Accuracy score: ',model_one.score(x_test, y_test))"
   ]
  },
  {
   "cell_type": "markdown",
   "metadata": {},
   "source": [
    "Improving on the best model using Recursive feature elimination which is the xgboost"
   ]
  },
  {
   "cell_type": "code",
   "execution_count": 77,
   "metadata": {},
   "outputs": [],
   "source": [
    "from sklearn.feature_selection import RFECV"
   ]
  },
  {
   "cell_type": "code",
   "execution_count": 78,
   "metadata": {},
   "outputs": [
    {
     "data": {
      "text/plain": [
       "RFECV(cv=5,\n",
       "      estimator=XGBRegressor(base_score=None, booster=None,\n",
       "                             colsample_bylevel=None, colsample_bynode=None,\n",
       "                             colsample_bytree=None, gamma=None, gpu_id=None,\n",
       "                             importance_type='gain',\n",
       "                             interaction_constraints=None, learning_rate=None,\n",
       "                             max_delta_step=None, max_depth=None,\n",
       "                             min_child_weight=None, missing=nan,\n",
       "                             monotone_constraints=None, n_estimators=100,\n",
       "                             n_jobs=None, num_parallel_tree=None,\n",
       "                             random_state=None, reg_alpha=None, reg_lambda=None,\n",
       "                             scale_pos_weight=None, subsample=None,\n",
       "                             tree_method=None, validate_parameters=None,\n",
       "                             verbosity=None),\n",
       "      scoring='r2')"
      ]
     },
     "execution_count": 78,
     "metadata": {},
     "output_type": "execute_result"
    }
   ],
   "source": [
    "fs = RFECV(xgb.XGBRegressor(), step=1, cv=5, scoring='r2')\n",
    "fs.fit(x_train, y_train)"
   ]
  },
  {
   "cell_type": "code",
   "execution_count": 79,
   "metadata": {},
   "outputs": [
    {
     "name": "stdout",
     "output_type": "stream",
     "text": [
      "Evaluation metrics for recursive feature elimination\n",
      "Accuracy score:  0.7242887881911574\n",
      "MSE:  54441454.84492886\n",
      "RMSE:  7378.445286435948\n",
      "MAE:  4407.558179450758\n"
     ]
    }
   ],
   "source": [
    "print('Evaluation metrics for recursive feature elimination')\n",
    "y5_pred = fs.predict(x_test)\n",
    "print('Accuracy score: ',fs.score(x_test, y_test))\n",
    "print('MSE: ',mean_squared_error(y_test, y5_pred))\n",
    "print('RMSE: ',math.sqrt(mean_squared_error(y_test, y5_pred)))\n",
    "print('MAE: ',mean_absolute_error(y_test, y5_pred))"
   ]
  },
  {
   "cell_type": "code",
   "execution_count": 80,
   "metadata": {},
   "outputs": [
    {
     "data": {
      "text/plain": [
       "[[39800, 39802.28],\n",
       " [43400, 43405.773],\n",
       " [56000, 55998.85],\n",
       " [26200, 26211.605],\n",
       " [33000, 33011.363],\n",
       " [86200, 86209.56],\n",
       " [66400, 66397.8],\n",
       " [50000, 50000.91],\n",
       " [42400, 42404.12],\n",
       " [47200, 47207.3],\n",
       " [45800, 45757.766],\n",
       " [48600, 48603.777],\n",
       " [44000, 44032.68],\n",
       " [55800, 55804.805],\n",
       " [63200, 63202.26],\n",
       " [26600, 26624.234],\n",
       " [36000, 35999.81],\n",
       " [60200, 60200.473],\n",
       " [50000, 49987.867],\n",
       " [49000, 48995.797],\n",
       " [64000, 63980.977],\n",
       " [49400, 49403.176],\n",
       " [45400, 45401.254],\n",
       " [45200, 45210.086],\n",
       " [48200, 48197.008],\n",
       " [37200, 37168.72],\n",
       " [75800, 75799.016],\n",
       " [37000, 36994.45],\n",
       " [53200, 53211.61],\n",
       " [100000, 99991.69],\n",
       " [89600, 89601.36],\n",
       " [70400, 70404.39],\n",
       " [43200, 43200.98],\n",
       " [49400, 49394.812],\n",
       " [34000, 33997.133],\n",
       " [43800, 43788.594],\n",
       " [45800, 45812.336],\n",
       " [31200, 31198.88],\n",
       " [42800, 42791.64],\n",
       " [45800, 45800.47],\n",
       " [53000, 53003.56],\n",
       " [43400, 43406.11],\n",
       " [37600, 37590.234],\n",
       " [65800, 65820.1],\n",
       " [40000, 40008.62],\n",
       " [62200, 62203.176],\n",
       " [29200, 29199.604],\n",
       " [35600, 35593.387],\n",
       " [42000, 42006.63],\n",
       " [47400, 47393.105],\n",
       " [46800, 46782.785],\n",
       " [36600, 36606.305],\n",
       " [46000, 45973.05],\n",
       " [72200, 72194.46],\n",
       " [44600, 44613.35],\n",
       " [39000, 38977.562],\n",
       " [42000, 41998.375],\n",
       " [43400, 43384.082],\n",
       " [39200, 39198.23],\n",
       " [41200, 41190.707],\n",
       " [38600, 38589.242],\n",
       " [44400, 44423.434],\n",
       " [44400, 44400.805],\n",
       " [60200, 60206.9],\n",
       " [61400, 61386.86],\n",
       " [28000, 27998.906],\n",
       " [27800, 27799.531],\n",
       " [36400, 36401.254],\n",
       " [37800, 37805.02],\n",
       " [26400, 26408.527],\n",
       " [59800, 59796.996],\n",
       " [31200, 31201.135],\n",
       " [67600, 67592.25],\n",
       " [45200, 45185.965],\n",
       " [100000, 100002.53],\n",
       " [83400, 83404.484],\n",
       " [100000, 99993.67],\n",
       " [35200, 35213.79],\n",
       " [45000, 44989.934],\n",
       " [30600, 30599.105],\n",
       " [34200, 34204.895],\n",
       " [77400, 77422.016],\n",
       " [46000, 45997.39],\n",
       " [57400, 57379.18],\n",
       " [40600, 40619.938],\n",
       " [60200, 60166.59],\n",
       " [47800, 47795.78],\n",
       " [50400, 50404.902],\n",
       " [47000, 46995.234],\n",
       " [87600, 87600.53],\n",
       " [69800, 69810.48],\n",
       " [40400, 40390.61],\n",
       " [60600, 60625.117],\n",
       " [41200, 41195.285],\n",
       " [46600, 46627.625],\n",
       " [35000, 35012.145],\n",
       " [55000, 54999.89],\n",
       " [96600, 96597.89],\n",
       " [28600, 28610.17],\n",
       " [66200, 66208.805],\n",
       " [63200, 63205.69],\n",
       " [41600, 41647.5],\n",
       " [40200, 40196.867],\n",
       " [39600, 39615.49],\n",
       " [46200, 46227.754],\n",
       " [66000, 65971.04],\n",
       " [100000, 99999.17],\n",
       " [40200, 40213.53],\n",
       " [48800, 48794.82],\n",
       " [37600, 37595.99],\n",
       " [32200, 32196.826],\n",
       " [48000, 48002.49],\n",
       " [34800, 34829.285],\n",
       " [46200, 46204.008],\n",
       " [53200, 53201.07],\n",
       " [42200, 42198.824],\n",
       " [46000, 46016.246],\n",
       " [43400, 43392.574],\n",
       " [33200, 33200.07],\n",
       " [70200, 70187.86],\n",
       " [72400, 72398.53],\n",
       " [100000, 99997.68],\n",
       " [62000, 61999.75],\n",
       " [48800, 48797.33],\n",
       " [39200, 39194.44],\n",
       " [44000, 43994.082],\n",
       " [40800, 40800.418],\n",
       " [47600, 47569.562],\n",
       " [39000, 39003.08],\n",
       " [59200, 59221.695],\n",
       " [31400, 31392.203],\n",
       " [40000, 40022.367],\n",
       " [93400, 93386.64],\n",
       " [44400, 44393.22],\n",
       " [49600, 49594.887],\n",
       " [45000, 45001.594],\n",
       " [42000, 41996.57],\n",
       " [39800, 39805.863],\n",
       " [58000, 58007.21],\n",
       " [43400, 43402.15],\n",
       " [54000, 54004.598],\n",
       " [42400, 42439.855],\n",
       " [52800, 52799.836],\n",
       " [44000, 44006.438],\n",
       " [57200, 57186.387],\n",
       " [54000, 53993.527],\n",
       " [44600, 44599.066],\n",
       " [49600, 49597.08],\n",
       " [43000, 43000.89],\n",
       " [65400, 65399.598],\n",
       " [58200, 58196.79],\n",
       " [46600, 46582.41],\n",
       " [25400, 25397.074],\n",
       " [69800, 69785.49],\n",
       " [48000, 47999.902],\n",
       " [36800, 36797.74],\n",
       " [100000, 99990.66],\n",
       " [54200, 54210.176],\n",
       " [41400, 41399.047],\n",
       " [37000, 36992.316],\n",
       " [45800, 45805.832],\n",
       " [40000, 39975.65],\n",
       " [46600, 46617.71],\n",
       " [38800, 38816.05],\n",
       " [37800, 37788.598],\n",
       " [44800, 44789.09],\n",
       " [50000, 49976.836],\n",
       " [34400, 34404.63],\n",
       " [56400, 56412.125],\n",
       " [61600, 61589.402],\n",
       " [72400, 72392.86],\n",
       " [50000, 49996.992],\n",
       " [40800, 40805.05],\n",
       " [79600, 79614.37],\n",
       " [50000, 50003.58],\n",
       " [46400, 46398.996],\n",
       " [59600, 59604.195],\n",
       " [31200, 31204.748],\n",
       " [64800, 64791.242],\n",
       " [43800, 43784.586],\n",
       " [38800, 38795.594],\n",
       " [32400, 32405.19],\n",
       " [53400, 53416.984],\n",
       " [63400, 63391.977],\n",
       " [23600, 23612.277],\n",
       " [49600, 49586.105],\n",
       " [42800, 42807.383],\n",
       " [28800, 28800.44],\n",
       " [40200, 40196.51],\n",
       " [30400, 30384.951],\n",
       " [49600, 49583.41],\n",
       " [70800, 70798.86],\n",
       " [45600, 45605.758],\n",
       " [61000, 61009.297],\n",
       " [75200, 75203.516],\n",
       " [35600, 35598.164],\n",
       " [65000, 64980.332],\n",
       " [44000, 44019.19],\n",
       " [66000, 65993.484],\n",
       " [34800, 34803.066],\n",
       " [34200, 34194.99],\n",
       " [48200, 48205.74],\n",
       " [36800, 36808.5],\n",
       " [70800, 70795.85],\n",
       " [39600, 39584.215],\n",
       " [38200, 38226.17],\n",
       " [46200, 46191.797],\n",
       " [38800, 38800.805],\n",
       " [100000, 100004.414],\n",
       " [46400, 46398.48],\n",
       " [74600, 74577.39],\n",
       " [47400, 47393.82],\n",
       " [30000, 29995.318],\n",
       " [28800, 28797.83],\n",
       " [97000, 96998.39],\n",
       " [90800, 90800.59],\n",
       " [66800, 66799.44],\n",
       " [27200, 27194.34],\n",
       " [43000, 42992.695],\n",
       " [57000, 57013.03],\n",
       " [41600, 41601.824],\n",
       " [37000, 37014.082],\n",
       " [50000, 49998.902],\n",
       " [38800, 38795.426],\n",
       " [63000, 63022.484],\n",
       " [100000, 99998.98],\n",
       " [48200, 48181.355],\n",
       " [34800, 34794.625],\n",
       " [73000, 73000.805],\n",
       " [38600, 38603.156],\n",
       " [50600, 50603.42],\n",
       " [40600, 40587.066],\n",
       " [35600, 35596.156],\n",
       " [63000, 63003.508],\n",
       " [64000, 63975.836],\n",
       " [66600, 66601.95],\n",
       " [56200, 56193.82],\n",
       " [30800, 30800.352],\n",
       " [58000, 58001.95],\n",
       " [38800, 38797.688],\n",
       " [45400, 45394.875],\n",
       " [40600, 40582.887],\n",
       " [32400, 32413.83],\n",
       " [69800, 69796.92],\n",
       " [33600, 33610.42],\n",
       " [38400, 38420.82],\n",
       " [42800, 42795.1],\n",
       " [45600, 45605.684],\n",
       " [38600, 38597.84],\n",
       " [41400, 41438.574],\n",
       " [87000, 86999.71],\n",
       " [49200, 49208.55],\n",
       " [56800, 56809.47],\n",
       " [43800, 43806.207],\n",
       " [38600, 38593.492],\n",
       " [100000, 99996.19],\n",
       " [52800, 52770.543],\n",
       " [97600, 97602.336],\n",
       " [69200, 69168.94],\n",
       " [48400, 48403.1],\n",
       " [66400, 66401.945],\n",
       " [38000, 38003.09],\n",
       " [44200, 44201.875],\n",
       " [72000, 71999.414]]"
      ]
     },
     "execution_count": 80,
     "metadata": {},
     "output_type": "execute_result"
    }
   ],
   "source": [
    "compare = [[a,b] for (a, b) in zip(y_train, fs.predict(x_train))]\n",
    "compare"
   ]
  },
  {
   "cell_type": "code",
   "execution_count": 81,
   "metadata": {},
   "outputs": [
    {
     "data": {
      "text/plain": [
       "Index(['Collection', 'Marketin_expense', 'Production_expense',\n",
       "       'Multiplex_coverage', 'Budget', 'Movie_length', 'Critic_rating',\n",
       "       'Trailer_views', 'Twitter_hastags', 'Genre', 'Avg_age_actors',\n",
       "       '3D_available', 'avg_people_rating'],\n",
       "      dtype='object')"
      ]
     },
     "execution_count": 81,
     "metadata": {},
     "output_type": "execute_result"
    }
   ],
   "source": [
    "new_df.columns"
   ]
  },
  {
   "cell_type": "code",
   "execution_count": 82,
   "metadata": {},
   "outputs": [
    {
     "data": {
      "text/html": [
       "<div>\n",
       "<style scoped>\n",
       "    .dataframe tbody tr th:only-of-type {\n",
       "        vertical-align: middle;\n",
       "    }\n",
       "\n",
       "    .dataframe tbody tr th {\n",
       "        vertical-align: top;\n",
       "    }\n",
       "\n",
       "    .dataframe thead th {\n",
       "        text-align: right;\n",
       "    }\n",
       "</style>\n",
       "<table border=\"1\" class=\"dataframe\">\n",
       "  <thead>\n",
       "    <tr style=\"text-align: right;\">\n",
       "      <th></th>\n",
       "      <th>Collection</th>\n",
       "      <th>Marketin_expense</th>\n",
       "      <th>Production_expense</th>\n",
       "      <th>Multiplex_coverage</th>\n",
       "      <th>Budget</th>\n",
       "      <th>Movie_length</th>\n",
       "      <th>Critic_rating</th>\n",
       "      <th>Trailer_views</th>\n",
       "      <th>Twitter_hastags</th>\n",
       "      <th>Genre</th>\n",
       "      <th>Avg_age_actors</th>\n",
       "      <th>3D_available</th>\n",
       "      <th>avg_people_rating</th>\n",
       "    </tr>\n",
       "  </thead>\n",
       "  <tbody>\n",
       "    <tr>\n",
       "      <th>0</th>\n",
       "      <td>48000</td>\n",
       "      <td>3.050523</td>\n",
       "      <td>59.62</td>\n",
       "      <td>0.462</td>\n",
       "      <td>36524.125</td>\n",
       "      <td>138.7</td>\n",
       "      <td>7.94</td>\n",
       "      <td>527367</td>\n",
       "      <td>223.840</td>\n",
       "      <td>3</td>\n",
       "      <td>23</td>\n",
       "      <td>1</td>\n",
       "      <td>7.95625</td>\n",
       "    </tr>\n",
       "    <tr>\n",
       "      <th>1</th>\n",
       "      <td>43200</td>\n",
       "      <td>3.070199</td>\n",
       "      <td>69.14</td>\n",
       "      <td>0.531</td>\n",
       "      <td>35668.655</td>\n",
       "      <td>152.4</td>\n",
       "      <td>7.44</td>\n",
       "      <td>494055</td>\n",
       "      <td>243.456</td>\n",
       "      <td>2</td>\n",
       "      <td>42</td>\n",
       "      <td>0</td>\n",
       "      <td>7.51625</td>\n",
       "    </tr>\n",
       "    <tr>\n",
       "      <th>3</th>\n",
       "      <td>66800</td>\n",
       "      <td>3.074885</td>\n",
       "      <td>59.36</td>\n",
       "      <td>0.542</td>\n",
       "      <td>38873.890</td>\n",
       "      <td>119.3</td>\n",
       "      <td>8.26</td>\n",
       "      <td>516279</td>\n",
       "      <td>225.344</td>\n",
       "      <td>2</td>\n",
       "      <td>45</td>\n",
       "      <td>1</td>\n",
       "      <td>6.96750</td>\n",
       "    </tr>\n",
       "    <tr>\n",
       "      <th>4</th>\n",
       "      <td>72400</td>\n",
       "      <td>3.108212</td>\n",
       "      <td>59.36</td>\n",
       "      <td>0.542</td>\n",
       "      <td>39701.585</td>\n",
       "      <td>127.7</td>\n",
       "      <td>8.26</td>\n",
       "      <td>531448</td>\n",
       "      <td>225.792</td>\n",
       "      <td>2</td>\n",
       "      <td>55</td>\n",
       "      <td>0</td>\n",
       "      <td>6.96875</td>\n",
       "    </tr>\n",
       "    <tr>\n",
       "      <th>5</th>\n",
       "      <td>57400</td>\n",
       "      <td>3.072554</td>\n",
       "      <td>59.36</td>\n",
       "      <td>0.542</td>\n",
       "      <td>35718.650</td>\n",
       "      <td>132.2</td>\n",
       "      <td>7.26</td>\n",
       "      <td>498425</td>\n",
       "      <td>284.592</td>\n",
       "      <td>1</td>\n",
       "      <td>53</td>\n",
       "      <td>1</td>\n",
       "      <td>6.97000</td>\n",
       "    </tr>\n",
       "  </tbody>\n",
       "</table>\n",
       "</div>"
      ],
      "text/plain": [
       "   Collection  Marketin_expense  Production_expense  Multiplex_coverage  \\\n",
       "0       48000          3.050523               59.62               0.462   \n",
       "1       43200          3.070199               69.14               0.531   \n",
       "3       66800          3.074885               59.36               0.542   \n",
       "4       72400          3.108212               59.36               0.542   \n",
       "5       57400          3.072554               59.36               0.542   \n",
       "\n",
       "      Budget  Movie_length  Critic_rating  Trailer_views  Twitter_hastags  \\\n",
       "0  36524.125         138.7           7.94         527367          223.840   \n",
       "1  35668.655         152.4           7.44         494055          243.456   \n",
       "3  38873.890         119.3           8.26         516279          225.344   \n",
       "4  39701.585         127.7           8.26         531448          225.792   \n",
       "5  35718.650         132.2           7.26         498425          284.592   \n",
       "\n",
       "   Genre  Avg_age_actors  3D_available  avg_people_rating  \n",
       "0      3              23             1            7.95625  \n",
       "1      2              42             0            7.51625  \n",
       "3      2              45             1            6.96750  \n",
       "4      2              55             0            6.96875  \n",
       "5      1              53             1            6.97000  "
      ]
     },
     "execution_count": 82,
     "metadata": {},
     "output_type": "execute_result"
    }
   ],
   "source": [
    "new_df.head()"
   ]
  },
  {
   "cell_type": "code",
   "execution_count": 83,
   "metadata": {},
   "outputs": [],
   "source": [
    "#saving the preferred model for deployment\n",
    "import pickle\n",
    "with open('xgb.pk1', 'wb') as model:\n",
    "    pickle.dump(fs, model)"
   ]
  },
  {
   "cell_type": "code",
   "execution_count": 2,
   "metadata": {},
   "outputs": [],
   "source": [
    "#fs.predict([[3.0784, 64.9000, 0.5890, 36,829.6500, 96.9000, 8.1600, 529498, 244.4640, 3, 37, 0, 7.4413]])"
   ]
  },
  {
   "cell_type": "code",
   "execution_count": null,
   "metadata": {},
   "outputs": [],
   "source": []
  }
 ],
 "metadata": {
  "kernelspec": {
   "display_name": "Python 3",
   "language": "python",
   "name": "python3"
  },
  "language_info": {
   "codemirror_mode": {
    "name": "ipython",
    "version": 3
   },
   "file_extension": ".py",
   "mimetype": "text/x-python",
   "name": "python",
   "nbconvert_exporter": "python",
   "pygments_lexer": "ipython3",
   "version": "3.7.4"
  }
 },
 "nbformat": 4,
 "nbformat_minor": 2
}
